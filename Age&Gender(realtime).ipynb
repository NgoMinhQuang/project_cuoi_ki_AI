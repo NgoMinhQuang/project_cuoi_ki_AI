{
  "nbformat": 4,
  "nbformat_minor": 0,
  "metadata": {
    "colab": {
      "name": "Age&Gender(realtime).ipynb",
      "provenance": [],
      "toc_visible": true,
      "authorship_tag": "ABX9TyMPGP4pF1Uz4c6rCGZJ+fTE",
      "include_colab_link": true
    },
    "kernelspec": {
      "name": "python3",
      "display_name": "Python 3"
    },
    "language_info": {
      "name": "python"
    },
    "accelerator": "GPU",
    "gpuClass": "standard"
  },
  "cells": [
    {
      "cell_type": "markdown",
      "metadata": {
        "id": "view-in-github",
        "colab_type": "text"
      },
      "source": [
        "<a href=\"https://colab.research.google.com/github/NgoMinhQuang/project_cuoi_ki_AI/blob/main/Age%26Gender(realtime).ipynb\" target=\"_parent\"><img src=\"https://colab.research.google.com/assets/colab-badge.svg\" alt=\"Open In Colab\"/></a>"
      ]
    },
    {
      "cell_type": "markdown",
      "source": [
        "# **Tư tưởng bài toán**\n",
        "Với đề tài \"Dự đoán tuổi, hình dạng khuôn mặt, giới tính\" nên chương trình có 3 nhiệm vụ là dự đoán tuổi, hình dạng khuôn mặt, giới tính. Vì thế ta cần tạo 3 mô hình CNN để training từng nhiệm vụ. Kết quả ta thu được 3 model training về tuổi, hình dạng khuôn mặt, giới tính. Cuối cùng load 3 model này vào và tiến hành bật webcam để thực hiện chương trình.\n",
        "Với nhiệm vụ dự đoán tuổi, ta chia làm 7 nhóm tuổi: 0-7, 8-15, 16-23, 24-32, 33-50, 51-65, 66-100. Với nhiệm vụ phát hiện ra hình dạng khuôn mặt chia làm 5 loại: heart – mặt trái tim, oblong – mặt thuôn dài, oval – mặt trái xoan, round – mặt tròn, square – mặt vuông. Cuối cùng với vấn đề dự đoán giới tính chia thành: male – nam và female – nữ thông qua khuôn mặt của một người.\n",
        "Tiếp theo, ta sẽ đi thực hiện từng nhiệm vụ riêng biệt."
      ],
      "metadata": {
        "id": "a135B96jwKCn"
      }
    },
    {
      "cell_type": "markdown",
      "source": [
        "# **I. Dự đoán tuổi**\n"
      ],
      "metadata": {
        "id": "4zs29fNXxrd8"
      }
    },
    {
      "cell_type": "markdown",
      "source": [
        "Sau khi up các tập dữ liệu về độ tuổi, giới tính, hình dạng khuôn mặt lên Google Drive thì việc đầu tiên cần làm là cho phép Google Colab truy cập vào Drive."
      ],
      "metadata": {
        "id": "75SkYyqbySGu"
      }
    },
    {
      "cell_type": "code",
      "execution_count": 7,
      "metadata": {
        "colab": {
          "base_uri": "https://localhost:8080/"
        },
        "id": "Aphz1z_Cb5R7",
        "outputId": "da916d1b-7e64-4e7a-a8b8-e211c6827a17"
      },
      "outputs": [
        {
          "output_type": "stream",
          "name": "stdout",
          "text": [
            "Drive already mounted at /content/drive; to attempt to forcibly remount, call drive.mount(\"/content/drive\", force_remount=True).\n"
          ]
        }
      ],
      "source": [
        "from google.colab import drive\n",
        "drive.mount('/content/drive')"
      ]
    },
    {
      "cell_type": "markdown",
      "source": [
        "Tiếp theo, ta sẽ import các thư viện cần thiết cho chương trình."
      ],
      "metadata": {
        "id": "WX-TrgBTya1H"
      }
    },
    {
      "cell_type": "code",
      "source": [
        "import numpy as np\n",
        "import pandas as pd\n",
        "import seaborn as sns\n",
        "import glob\n",
        "import cv2\n",
        "import os\n",
        "from os import listdir\n",
        "from numpy import asarray\n",
        "import matplotlib.pyplot as plt\n",
        "from sklearn.preprocessing import StandardScaler\n",
        "from sklearn.model_selection import train_test_split\n",
        "from keras.layers import Dense,Activation,BatchNormalization, Dropout, LSTM, Flatten\n",
        "from keras.layers.convolutional import Conv2D, MaxPooling2D\n",
        "from keras.models import Sequential\n",
        "from tensorflow.keras.optimizers import RMSprop, SGD\n",
        "from keras.utils import np_utils\n",
        "from tensorflow.keras.preprocessing.image import load_img, img_to_array"
      ],
      "metadata": {
        "id": "wNijnAy8cCLz"
      },
      "execution_count": 8,
      "outputs": []
    },
    {
      "cell_type": "markdown",
      "source": [
        "Tạo tên class tương ứng với dữ liệu đầu vào (ở đây ta thực hiện cho bài toán nhận dạng tuổi nên chia thành 7 class tương ứng là: Age: 0-7, Age: 8-15, Age: 16-23, Age: 24-32, Age: 33-50, Age: 51-65, Age: 66-100)."
      ],
      "metadata": {
        "id": "Mx-ZmBPFyho3"
      }
    },
    {
      "cell_type": "code",
      "source": [
        "folder1 = '/content/drive/MyDrive/Colab Notebooks/data/Age/0-7'\n",
        "folder2 = '/content/drive/MyDrive/Colab Notebooks/data/Age/8-15'\n",
        "folder3 = '/content/drive/MyDrive/Colab Notebooks/data/Age/16-23'\n",
        "folder4 = '/content/drive/MyDrive/Colab Notebooks/data/Age/24-32'\n",
        "folder5 = '/content/drive/MyDrive/Colab Notebooks/data/Age/33-50'\n",
        "folder6 = '/content/drive/MyDrive/Colab Notebooks/data/Age/51-65'\n",
        "folder7 = '/content/drive/MyDrive/Colab Notebooks/data/Age/66-100'\n",
        "photos, labels = list(), list()\n",
        "for file in listdir(folder1):\n",
        "  photo = load_img(folder1+'/'+file, target_size=(150,150))\n",
        "  photo = img_to_array(photo)\n",
        "  photos.append(photo)              \n",
        "  labels.append(0) \n",
        "for file in listdir(folder2):\n",
        "  photo = load_img(folder2+'/'+file, target_size=(150,150))\n",
        "  photo = img_to_array(photo)\n",
        "  photos.append(photo)              \n",
        "  labels.append(1) \n",
        "for file in listdir(folder3):\n",
        "  photo = load_img(folder3+'/'+file, target_size=(150,150))\n",
        "  photo = img_to_array(photo)\n",
        "  photos.append(photo)              \n",
        "  labels.append(2) \n",
        "for file in listdir(folder4):\n",
        "  photo = load_img(folder4+'/'+file, target_size=(150,150))\n",
        "  photo = img_to_array(photo)\n",
        "  photos.append(photo)              \n",
        "  labels.append(3) \n",
        "for file in listdir(folder5):\n",
        "  photo = load_img(folder5+'/'+file, target_size=(150,150))\n",
        "  photo = img_to_array(photo)\n",
        "  photos.append(photo)              \n",
        "  labels.append(4) \n",
        "for file in listdir(folder6):\n",
        "  photo = load_img(folder6+'/'+file, target_size=(150,150))\n",
        "  photo = img_to_array(photo)\n",
        "  photos.append(photo)              \n",
        "  labels.append(5) \n",
        "for file in listdir(folder7):\n",
        "  photo = load_img(folder7+'/'+file, target_size=(150,150))\n",
        "  photo = img_to_array(photo)\n",
        "  photos.append(photo)              \n",
        "  labels.append(6) \n",
        "photos = asarray(photos)            #lưu dữ liệu ảnh dưới dạng mảng\n",
        "labels = asarray(labels)            #lưu dữ liệu phân loại dạng mảng\n",
        "class_name =  ['Age: 0-7','Age: 8-15','Age: 16-23','Age: 24-32','Age: 33-50','Age: 51-65','Age: 66-100']   #tạo tên class tương ứng với dữ liệu phân loại\n",
        "print(photos.shape, labels.shape, class_name)"
      ],
      "metadata": {
        "colab": {
          "base_uri": "https://localhost:8080/"
        },
        "id": "PBVsM4SAcUkC",
        "outputId": "f808f0ca-4adb-4cfa-bdb0-eff46b6b258c"
      },
      "execution_count": null,
      "outputs": [
        {
          "output_type": "stream",
          "name": "stdout",
          "text": [
            "(5280, 150, 150, 3) (5280,) ['Age: 0-7', 'Age: 8-15', 'Age: 16-23', 'Age: 24-32', 'Age: 33-50', 'Age: 51-65', 'Age: 66-100']\n"
          ]
        }
      ]
    },
    {
      "cell_type": "markdown",
      "source": [
        "Tạo dữ liệu với 75% dành cho việc training và 25% dành cho việc test."
      ],
      "metadata": {
        "id": "XjoOeHVky0EH"
      }
    },
    {
      "cell_type": "code",
      "source": [
        "x_train, x_test, y_train, y_test = train_test_split(photos, labels, test_size=0.25, random_state=5)   #tạo dữ liệu train 75% và test 25%\n",
        "print(x_train.shape,x_test.shape)\n",
        "print(y_train.shape,y_test.shape)"
      ],
      "metadata": {
        "id": "Ynp-HDsXd4Uh",
        "colab": {
          "base_uri": "https://localhost:8080/"
        },
        "outputId": "8f657ba7-9149-4c39-aee2-0fce2d36412b"
      },
      "execution_count": null,
      "outputs": [
        {
          "output_type": "stream",
          "name": "stdout",
          "text": [
            "(3960, 150, 150, 3) (1320, 150, 150, 3)\n",
            "(3960,) (1320,)\n"
          ]
        }
      ]
    },
    {
      "cell_type": "markdown",
      "source": [
        "Show 9 ảnh ngẫu nhiên dưới dạng ma trận 3x3."
      ],
      "metadata": {
        "id": "Phv4SAhAy2TP"
      }
    },
    {
      "cell_type": "code",
      "source": [
        "x_train_show = x_train.astype(int)            \n",
        "import matplotlib.pyplot as plt\n",
        "from matplotlib.image import imread\n",
        "for i in range(9):\n",
        "  plt.subplot(330+i+1)\n",
        "  plt.imshow(x_train_show[i])\n",
        "plt.show()"
      ],
      "metadata": {
        "id": "Z6d98mpOwr4Y",
        "colab": {
          "base_uri": "https://localhost:8080/",
          "height": 269
        },
        "outputId": "27b20d4e-2b3b-490b-8820-2f84ea1e2ed9"
      },
      "execution_count": null,
      "outputs": [
        {
          "output_type": "display_data",
          "data": {
            "text/plain": [
              "<Figure size 432x288 with 9 Axes>"
            ],
            "image/png": "[encoded data removed]"
          },
          "metadata": {
            "needs_background": "light"
          }
        }
      ]
    },
    {
      "cell_type": "markdown",
      "source": [
        "Thực hiện quá trình chuẩn hóa dữ liệu."
      ],
      "metadata": {
        "id": "q62qqxRNzALG"
      }
    },
    {
      "cell_type": "code",
      "source": [
        "x_train/=255\n",
        "x_test/=255\n",
        "y_train=np_utils.to_categorical(y_train)\n",
        "y_test=np_utils.to_categorical(y_test)"
      ],
      "metadata": {
        "id": "FSanaeJewzXG"
      },
      "execution_count": null,
      "outputs": []
    },
    {
      "cell_type": "markdown",
      "source": [
        "Tạo mô hình mạng CNN với 3 lớp (Convolution, ReLU, Max Pooling). Sau đó ta tiến hành training dữ liệu để máy tính học 200 lần với batch_size =64 (batch_size là số lượng mẫu trong 1 lần huấn luyện, batch_size =64 nghĩa là 1 lần lặp ta sẽ cho ngẫu nhiên 64 bức hình chạy lan truyền tiến trong mạng CNN). Sau khi training xong ta sẽ thu được một file model."
      ],
      "metadata": {
        "id": "J8qpMBGfzILP"
      }
    },
    {
      "cell_type": "code",
      "source": [
        "model = Sequential()\n",
        "model.add(Conv2D(32,(3,3), activation = 'relu', kernel_initializer='he_uniform',padding='same',input_shape=(150,150,3)))\n",
        "model.add(MaxPooling2D((2,2)))\n",
        "\n",
        "model.add(Conv2D(64,(3,3), activation = 'relu', kernel_initializer='he_uniform',padding='same',))\n",
        "model.add(MaxPooling2D((2,2)))\n",
        "\n",
        "model.add(Conv2D(128,(3,3), activation = 'relu', kernel_initializer='he_uniform',padding='same',))\n",
        "model.add(MaxPooling2D((2,2)))\n",
        "model.add(Flatten())\n",
        "model.add(Dense(128, activation='relu', kernel_initializer='he_uniform'))  #Dense la full connected \n",
        "model.add(Dense(7, activation='Softmax'))\n",
        "opt = SGD(lr=0.01, momentum=0.9)\n",
        "model.compile(optimizer=opt,loss='categorical_crossentropy',  metrics=['accuracy'])\n",
        "history = model.fit(x_train,y_train, batch_size=64,epochs=200,verbose=1,validation_data = (x_test, y_test))\n",
        "model.save('/content/drive/MyDrive/age.h5')"
      ],
      "metadata": {
        "id": "gbRCybGOw29-",
        "colab": {
          "base_uri": "https://localhost:8080/"
        },
        "outputId": "2dc82d8c-d616-41c7-8bf6-50d0e59b842e"
      },
      "execution_count": null,
      "outputs": [
        {
          "output_type": "stream",
          "name": "stderr",
          "text": [
            "/usr/local/lib/python3.7/dist-packages/keras/optimizer_v2/gradient_descent.py:102: UserWarning: The `lr` argument is deprecated, use `learning_rate` instead.\n",
            "  super(SGD, self).__init__(name, **kwargs)\n"
          ]
        },
        {
          "output_type": "stream",
          "name": "stdout",
          "text": [
            "Epoch 1/200\n",
            "62/62 [==============================] - 17s 82ms/step - loss: 1.8922 - accuracy: 0.2722 - val_loss: 1.7591 - val_accuracy: 0.3182\n",
            "Epoch 2/200\n",
            "62/62 [==============================] - 4s 59ms/step - loss: 1.6216 - accuracy: 0.3611 - val_loss: 1.4463 - val_accuracy: 0.4758\n",
            "Epoch 3/200\n",
            "62/62 [==============================] - 4s 59ms/step - loss: 1.2528 - accuracy: 0.4949 - val_loss: 1.3154 - val_accuracy: 0.4659\n",
            "Epoch 4/200\n",
            "62/62 [==============================] - 4s 62ms/step - loss: 1.1442 - accuracy: 0.5396 - val_loss: 1.2618 - val_accuracy: 0.4826\n",
            "Epoch 5/200\n",
            "62/62 [==============================] - 4s 62ms/step - loss: 1.0191 - accuracy: 0.5947 - val_loss: 1.1487 - val_accuracy: 0.5341\n",
            "Epoch 6/200\n",
            "62/62 [==============================] - 4s 61ms/step - loss: 0.9133 - accuracy: 0.6316 - val_loss: 1.1356 - val_accuracy: 0.5492\n",
            "Epoch 7/200\n",
            "62/62 [==============================] - 4s 60ms/step - loss: 0.8103 - accuracy: 0.6783 - val_loss: 1.1205 - val_accuracy: 0.5462\n",
            "Epoch 8/200\n",
            "62/62 [==============================] - 4s 60ms/step - loss: 0.6846 - accuracy: 0.7326 - val_loss: 1.2074 - val_accuracy: 0.5364\n",
            "Epoch 9/200\n",
            "62/62 [==============================] - 4s 61ms/step - loss: 0.5575 - accuracy: 0.7793 - val_loss: 1.3103 - val_accuracy: 0.5311\n",
            "Epoch 10/200\n",
            "62/62 [==============================] - 4s 62ms/step - loss: 0.4810 - accuracy: 0.8101 - val_loss: 1.3666 - val_accuracy: 0.5432\n",
            "Epoch 11/200\n",
            "62/62 [==============================] - 4s 63ms/step - loss: 0.3759 - accuracy: 0.8583 - val_loss: 1.4272 - val_accuracy: 0.5833\n",
            "Epoch 12/200\n",
            "62/62 [==============================] - 4s 62ms/step - loss: 0.2744 - accuracy: 0.8985 - val_loss: 1.7763 - val_accuracy: 0.5348\n",
            "Epoch 13/200\n",
            "62/62 [==============================] - 4s 61ms/step - loss: 0.2179 - accuracy: 0.9230 - val_loss: 1.9087 - val_accuracy: 0.5530\n",
            "Epoch 14/200\n",
            "62/62 [==============================] - 4s 60ms/step - loss: 0.1637 - accuracy: 0.9432 - val_loss: 2.0504 - val_accuracy: 0.5439\n",
            "Epoch 15/200\n",
            "62/62 [==============================] - 4s 61ms/step - loss: 0.1197 - accuracy: 0.9621 - val_loss: 2.2327 - val_accuracy: 0.5182\n",
            "Epoch 16/200\n",
            "62/62 [==============================] - 4s 61ms/step - loss: 0.1401 - accuracy: 0.9528 - val_loss: 2.3259 - val_accuracy: 0.5379\n",
            "Epoch 17/200\n",
            "62/62 [==============================] - 4s 61ms/step - loss: 0.0727 - accuracy: 0.9780 - val_loss: 2.4887 - val_accuracy: 0.5462\n",
            "Epoch 18/200\n",
            "62/62 [==============================] - 4s 60ms/step - loss: 0.0671 - accuracy: 0.9803 - val_loss: 2.6092 - val_accuracy: 0.5318\n",
            "Epoch 19/200\n",
            "62/62 [==============================] - 4s 62ms/step - loss: 0.0965 - accuracy: 0.9707 - val_loss: 2.4739 - val_accuracy: 0.5212\n",
            "Epoch 20/200\n",
            "62/62 [==============================] - 4s 63ms/step - loss: 0.0761 - accuracy: 0.9765 - val_loss: 2.4905 - val_accuracy: 0.5477\n",
            "Epoch 21/200\n",
            "62/62 [==============================] - 4s 61ms/step - loss: 0.0308 - accuracy: 0.9932 - val_loss: 3.0749 - val_accuracy: 0.5318\n",
            "Epoch 22/200\n",
            "62/62 [==============================] - 4s 62ms/step - loss: 0.0474 - accuracy: 0.9899 - val_loss: 2.7482 - val_accuracy: 0.5242\n",
            "Epoch 23/200\n",
            "62/62 [==============================] - 4s 62ms/step - loss: 0.0308 - accuracy: 0.9924 - val_loss: 2.8797 - val_accuracy: 0.5545\n",
            "Epoch 24/200\n",
            "62/62 [==============================] - 4s 62ms/step - loss: 0.0274 - accuracy: 0.9947 - val_loss: 2.8912 - val_accuracy: 0.5364\n",
            "Epoch 25/200\n",
            "62/62 [==============================] - 4s 62ms/step - loss: 0.0263 - accuracy: 0.9944 - val_loss: 2.7499 - val_accuracy: 0.5636\n",
            "Epoch 26/200\n",
            "62/62 [==============================] - 4s 62ms/step - loss: 0.0237 - accuracy: 0.9957 - val_loss: 2.9063 - val_accuracy: 0.5470\n",
            "Epoch 27/200\n",
            "62/62 [==============================] - 4s 70ms/step - loss: 0.0223 - accuracy: 0.9957 - val_loss: 2.6780 - val_accuracy: 0.5515\n",
            "Epoch 28/200\n",
            "62/62 [==============================] - 4s 71ms/step - loss: 0.0209 - accuracy: 0.9962 - val_loss: 2.8283 - val_accuracy: 0.5492\n",
            "Epoch 29/200\n",
            "62/62 [==============================] - 5s 74ms/step - loss: 0.0142 - accuracy: 0.9970 - val_loss: 2.9320 - val_accuracy: 0.5485\n",
            "Epoch 30/200\n",
            "62/62 [==============================] - 4s 66ms/step - loss: 0.0166 - accuracy: 0.9970 - val_loss: 2.8322 - val_accuracy: 0.5598\n",
            "Epoch 31/200\n",
            "62/62 [==============================] - 4s 62ms/step - loss: 0.0202 - accuracy: 0.9967 - val_loss: 2.7134 - val_accuracy: 0.5561\n",
            "Epoch 32/200\n",
            "62/62 [==============================] - 4s 65ms/step - loss: 0.0169 - accuracy: 0.9965 - val_loss: 2.8874 - val_accuracy: 0.5432\n",
            "Epoch 33/200\n",
            "62/62 [==============================] - 4s 62ms/step - loss: 0.0140 - accuracy: 0.9970 - val_loss: 2.9452 - val_accuracy: 0.5348\n",
            "Epoch 34/200\n",
            "62/62 [==============================] - 4s 72ms/step - loss: 0.0142 - accuracy: 0.9967 - val_loss: 2.8582 - val_accuracy: 0.5545\n",
            "Epoch 35/200\n",
            "62/62 [==============================] - 4s 62ms/step - loss: 0.0120 - accuracy: 0.9970 - val_loss: 2.8701 - val_accuracy: 0.5568\n",
            "Epoch 36/200\n",
            "62/62 [==============================] - 4s 62ms/step - loss: 0.0108 - accuracy: 0.9967 - val_loss: 2.8199 - val_accuracy: 0.5500\n",
            "Epoch 37/200\n",
            "62/62 [==============================] - 4s 62ms/step - loss: 0.0108 - accuracy: 0.9975 - val_loss: 2.9450 - val_accuracy: 0.5447\n",
            "Epoch 38/200\n",
            "62/62 [==============================] - 4s 62ms/step - loss: 0.0117 - accuracy: 0.9972 - val_loss: 2.9195 - val_accuracy: 0.5530\n",
            "Epoch 39/200\n",
            "62/62 [==============================] - 4s 62ms/step - loss: 0.0107 - accuracy: 0.9972 - val_loss: 2.9818 - val_accuracy: 0.5439\n",
            "Epoch 40/200\n",
            "62/62 [==============================] - 4s 61ms/step - loss: 0.0107 - accuracy: 0.9972 - val_loss: 2.9557 - val_accuracy: 0.5394\n",
            "Epoch 41/200\n",
            "62/62 [==============================] - 4s 62ms/step - loss: 0.0106 - accuracy: 0.9972 - val_loss: 2.8501 - val_accuracy: 0.5485\n",
            "Epoch 42/200\n",
            "62/62 [==============================] - 4s 61ms/step - loss: 0.0096 - accuracy: 0.9970 - val_loss: 2.9499 - val_accuracy: 0.5462\n",
            "Epoch 43/200\n",
            "62/62 [==============================] - 4s 61ms/step - loss: 0.0102 - accuracy: 0.9962 - val_loss: 2.8359 - val_accuracy: 0.5462\n",
            "Epoch 44/200\n",
            "62/62 [==============================] - 4s 62ms/step - loss: 0.0093 - accuracy: 0.9967 - val_loss: 2.8467 - val_accuracy: 0.5409\n",
            "Epoch 45/200\n",
            "62/62 [==============================] - 4s 61ms/step - loss: 0.0080 - accuracy: 0.9972 - val_loss: 2.9755 - val_accuracy: 0.5439\n",
            "Epoch 46/200\n",
            "62/62 [==============================] - 4s 62ms/step - loss: 0.0084 - accuracy: 0.9975 - val_loss: 2.9235 - val_accuracy: 0.5477\n",
            "Epoch 47/200\n",
            "62/62 [==============================] - 4s 65ms/step - loss: 0.0079 - accuracy: 0.9975 - val_loss: 3.0581 - val_accuracy: 0.5455\n",
            "Epoch 48/200\n",
            "62/62 [==============================] - 4s 64ms/step - loss: 0.0094 - accuracy: 0.9967 - val_loss: 2.8968 - val_accuracy: 0.5508\n",
            "Epoch 49/200\n",
            "62/62 [==============================] - 4s 62ms/step - loss: 0.0083 - accuracy: 0.9975 - val_loss: 2.9811 - val_accuracy: 0.5424\n",
            "Epoch 50/200\n",
            "62/62 [==============================] - 4s 62ms/step - loss: 0.0094 - accuracy: 0.9967 - val_loss: 2.8942 - val_accuracy: 0.5553\n",
            "Epoch 51/200\n",
            "62/62 [==============================] - 4s 61ms/step - loss: 0.0079 - accuracy: 0.9975 - val_loss: 2.9099 - val_accuracy: 0.5492\n",
            "Epoch 52/200\n",
            "62/62 [==============================] - 4s 64ms/step - loss: 0.0080 - accuracy: 0.9975 - val_loss: 2.8842 - val_accuracy: 0.5477\n",
            "Epoch 53/200\n",
            "62/62 [==============================] - 4s 64ms/step - loss: 0.0063 - accuracy: 0.9972 - val_loss: 2.9221 - val_accuracy: 0.5439\n",
            "Epoch 54/200\n",
            "62/62 [==============================] - 4s 64ms/step - loss: 0.0071 - accuracy: 0.9980 - val_loss: 2.9024 - val_accuracy: 0.5538\n",
            "Epoch 55/200\n",
            "62/62 [==============================] - 4s 62ms/step - loss: 0.0057 - accuracy: 0.9982 - val_loss: 2.9537 - val_accuracy: 0.5470\n",
            "Epoch 56/200\n",
            "62/62 [==============================] - 4s 64ms/step - loss: 0.0060 - accuracy: 0.9977 - val_loss: 2.9855 - val_accuracy: 0.5485\n",
            "Epoch 57/200\n",
            "62/62 [==============================] - 4s 62ms/step - loss: 0.0093 - accuracy: 0.9972 - val_loss: 2.8719 - val_accuracy: 0.5477\n",
            "Epoch 58/200\n",
            "62/62 [==============================] - 4s 62ms/step - loss: 0.0069 - accuracy: 0.9975 - val_loss: 2.9093 - val_accuracy: 0.5629\n",
            "Epoch 59/200\n",
            "62/62 [==============================] - 4s 62ms/step - loss: 0.0064 - accuracy: 0.9975 - val_loss: 2.9413 - val_accuracy: 0.5545\n",
            "Epoch 60/200\n",
            "62/62 [==============================] - 4s 62ms/step - loss: 0.0048 - accuracy: 0.9982 - val_loss: 3.0943 - val_accuracy: 0.5500\n",
            "Epoch 61/200\n",
            "62/62 [==============================] - 4s 62ms/step - loss: 0.0060 - accuracy: 0.9977 - val_loss: 3.0218 - val_accuracy: 0.5439\n",
            "Epoch 62/200\n",
            "62/62 [==============================] - 4s 62ms/step - loss: 0.0066 - accuracy: 0.9980 - val_loss: 2.9446 - val_accuracy: 0.5462\n",
            "Epoch 63/200\n",
            "62/62 [==============================] - 4s 65ms/step - loss: 0.0063 - accuracy: 0.9975 - val_loss: 2.9374 - val_accuracy: 0.5492\n",
            "Epoch 64/200\n",
            "62/62 [==============================] - 4s 63ms/step - loss: 0.0047 - accuracy: 0.9980 - val_loss: 2.9752 - val_accuracy: 0.5477\n",
            "Epoch 65/200\n",
            "62/62 [==============================] - 4s 61ms/step - loss: 0.0044 - accuracy: 0.9977 - val_loss: 2.9876 - val_accuracy: 0.5553\n",
            "Epoch 66/200\n",
            "62/62 [==============================] - 4s 62ms/step - loss: 0.0056 - accuracy: 0.9975 - val_loss: 2.9664 - val_accuracy: 0.5530\n",
            "Epoch 67/200\n",
            "62/62 [==============================] - 4s 62ms/step - loss: 0.0055 - accuracy: 0.9980 - val_loss: 3.0207 - val_accuracy: 0.5485\n",
            "Epoch 68/200\n",
            "62/62 [==============================] - 4s 64ms/step - loss: 0.0047 - accuracy: 0.9980 - val_loss: 3.0037 - val_accuracy: 0.5492\n",
            "Epoch 69/200\n",
            "62/62 [==============================] - 4s 61ms/step - loss: 0.0043 - accuracy: 0.9980 - val_loss: 3.1045 - val_accuracy: 0.5477\n",
            "Epoch 70/200\n",
            "62/62 [==============================] - 4s 61ms/step - loss: 0.0047 - accuracy: 0.9972 - val_loss: 3.1212 - val_accuracy: 0.5659\n",
            "Epoch 71/200\n",
            "62/62 [==============================] - 4s 62ms/step - loss: 0.0065 - accuracy: 0.9977 - val_loss: 3.0222 - val_accuracy: 0.5402\n",
            "Epoch 72/200\n",
            "62/62 [==============================] - 4s 62ms/step - loss: 0.0047 - accuracy: 0.9980 - val_loss: 3.0369 - val_accuracy: 0.5439\n",
            "Epoch 73/200\n",
            "62/62 [==============================] - 4s 62ms/step - loss: 0.0047 - accuracy: 0.9980 - val_loss: 3.0610 - val_accuracy: 0.5447\n",
            "Epoch 74/200\n",
            "62/62 [==============================] - 4s 63ms/step - loss: 0.0041 - accuracy: 0.9980 - val_loss: 3.0736 - val_accuracy: 0.5561\n",
            "Epoch 75/200\n",
            "62/62 [==============================] - 4s 62ms/step - loss: 0.0044 - accuracy: 0.9980 - val_loss: 3.0797 - val_accuracy: 0.5394\n",
            "Epoch 76/200\n",
            "62/62 [==============================] - 4s 62ms/step - loss: 0.0043 - accuracy: 0.9975 - val_loss: 3.0817 - val_accuracy: 0.5538\n",
            "Epoch 77/200\n",
            "62/62 [==============================] - 4s 65ms/step - loss: 0.0044 - accuracy: 0.9980 - val_loss: 3.1711 - val_accuracy: 0.5439\n",
            "Epoch 78/200\n",
            "62/62 [==============================] - 4s 61ms/step - loss: 0.0047 - accuracy: 0.9980 - val_loss: 3.0657 - val_accuracy: 0.5545\n",
            "Epoch 79/200\n",
            "62/62 [==============================] - 4s 63ms/step - loss: 0.0046 - accuracy: 0.9977 - val_loss: 3.0967 - val_accuracy: 0.5462\n",
            "Epoch 80/200\n",
            "62/62 [==============================] - 4s 62ms/step - loss: 0.0041 - accuracy: 0.9977 - val_loss: 3.0857 - val_accuracy: 0.5523\n",
            "Epoch 81/200\n",
            "62/62 [==============================] - 4s 62ms/step - loss: 0.0050 - accuracy: 0.9972 - val_loss: 3.0689 - val_accuracy: 0.5485\n",
            "Epoch 82/200\n",
            "62/62 [==============================] - 4s 62ms/step - loss: 0.0040 - accuracy: 0.9982 - val_loss: 3.1339 - val_accuracy: 0.5538\n",
            "Epoch 83/200\n",
            "62/62 [==============================] - 4s 62ms/step - loss: 0.0038 - accuracy: 0.9982 - val_loss: 3.1431 - val_accuracy: 0.5439\n",
            "Epoch 84/200\n",
            "62/62 [==============================] - 4s 63ms/step - loss: 0.0045 - accuracy: 0.9977 - val_loss: 3.1707 - val_accuracy: 0.5500\n",
            "Epoch 85/200\n",
            "62/62 [==============================] - 4s 62ms/step - loss: 0.0054 - accuracy: 0.9977 - val_loss: 3.1826 - val_accuracy: 0.5439\n",
            "Epoch 86/200\n",
            "62/62 [==============================] - 4s 63ms/step - loss: 0.0047 - accuracy: 0.9977 - val_loss: 3.1121 - val_accuracy: 0.5492\n",
            "Epoch 87/200\n",
            "62/62 [==============================] - 4s 62ms/step - loss: 0.0041 - accuracy: 0.9982 - val_loss: 3.1679 - val_accuracy: 0.5485\n",
            "Epoch 88/200\n",
            "62/62 [==============================] - 4s 62ms/step - loss: 0.0047 - accuracy: 0.9977 - val_loss: 3.1381 - val_accuracy: 0.5455\n",
            "Epoch 89/200\n",
            "62/62 [==============================] - 4s 62ms/step - loss: 0.0044 - accuracy: 0.9980 - val_loss: 3.1169 - val_accuracy: 0.5485\n",
            "Epoch 90/200\n",
            "62/62 [==============================] - 4s 62ms/step - loss: 0.0046 - accuracy: 0.9975 - val_loss: 3.0965 - val_accuracy: 0.5508\n",
            "Epoch 91/200\n",
            "62/62 [==============================] - 4s 62ms/step - loss: 0.0041 - accuracy: 0.9982 - val_loss: 3.1671 - val_accuracy: 0.5477\n",
            "Epoch 92/200\n",
            "62/62 [==============================] - 4s 65ms/step - loss: 0.0042 - accuracy: 0.9980 - val_loss: 3.1219 - val_accuracy: 0.5523\n",
            "Epoch 93/200\n",
            "62/62 [==============================] - 4s 62ms/step - loss: 0.0035 - accuracy: 0.9980 - val_loss: 3.2185 - val_accuracy: 0.5492\n",
            "Epoch 94/200\n",
            "62/62 [==============================] - 4s 62ms/step - loss: 0.0038 - accuracy: 0.9982 - val_loss: 3.1913 - val_accuracy: 0.5508\n",
            "Epoch 95/200\n",
            "62/62 [==============================] - 4s 63ms/step - loss: 0.0043 - accuracy: 0.9977 - val_loss: 3.1649 - val_accuracy: 0.5500\n",
            "Epoch 96/200\n",
            "62/62 [==============================] - 4s 62ms/step - loss: 0.0041 - accuracy: 0.9980 - val_loss: 3.1834 - val_accuracy: 0.5485\n",
            "Epoch 97/200\n",
            "62/62 [==============================] - 4s 62ms/step - loss: 0.0045 - accuracy: 0.9975 - val_loss: 3.1536 - val_accuracy: 0.5523\n",
            "Epoch 98/200\n",
            "62/62 [==============================] - 4s 62ms/step - loss: 0.0038 - accuracy: 0.9977 - val_loss: 3.1656 - val_accuracy: 0.5485\n",
            "Epoch 99/200\n",
            "62/62 [==============================] - 4s 63ms/step - loss: 0.0035 - accuracy: 0.9977 - val_loss: 3.2070 - val_accuracy: 0.5538\n",
            "Epoch 100/200\n",
            "62/62 [==============================] - 4s 63ms/step - loss: 0.0048 - accuracy: 0.9975 - val_loss: 3.2045 - val_accuracy: 0.5515\n",
            "Epoch 101/200\n",
            "62/62 [==============================] - 4s 64ms/step - loss: 0.0043 - accuracy: 0.9982 - val_loss: 3.1709 - val_accuracy: 0.5508\n",
            "Epoch 102/200\n",
            "62/62 [==============================] - 4s 63ms/step - loss: 0.0047 - accuracy: 0.9977 - val_loss: 3.1409 - val_accuracy: 0.5538\n",
            "Epoch 103/200\n",
            "62/62 [==============================] - 4s 62ms/step - loss: 0.0037 - accuracy: 0.9982 - val_loss: 3.1635 - val_accuracy: 0.5492\n",
            "Epoch 104/200\n",
            "62/62 [==============================] - 4s 62ms/step - loss: 0.0037 - accuracy: 0.9980 - val_loss: 3.1942 - val_accuracy: 0.5553\n",
            "Epoch 105/200\n",
            "62/62 [==============================] - 4s 63ms/step - loss: 0.0043 - accuracy: 0.9975 - val_loss: 3.1739 - val_accuracy: 0.5492\n",
            "Epoch 106/200\n",
            "62/62 [==============================] - 4s 63ms/step - loss: 0.0038 - accuracy: 0.9982 - val_loss: 3.1635 - val_accuracy: 0.5470\n",
            "Epoch 107/200\n",
            "62/62 [==============================] - 4s 64ms/step - loss: 0.0035 - accuracy: 0.9977 - val_loss: 3.2221 - val_accuracy: 0.5492\n",
            "Epoch 108/200\n",
            "62/62 [==============================] - 4s 62ms/step - loss: 0.0036 - accuracy: 0.9975 - val_loss: 3.2049 - val_accuracy: 0.5538\n",
            "Epoch 109/200\n",
            "62/62 [==============================] - 4s 62ms/step - loss: 0.0038 - accuracy: 0.9977 - val_loss: 3.2194 - val_accuracy: 0.5485\n",
            "Epoch 110/200\n",
            "62/62 [==============================] - 4s 62ms/step - loss: 0.0038 - accuracy: 0.9980 - val_loss: 3.2240 - val_accuracy: 0.5447\n",
            "Epoch 111/200\n",
            "62/62 [==============================] - 4s 62ms/step - loss: 0.0037 - accuracy: 0.9980 - val_loss: 3.2291 - val_accuracy: 0.5485\n",
            "Epoch 112/200\n",
            "62/62 [==============================] - 4s 62ms/step - loss: 0.0036 - accuracy: 0.9980 - val_loss: 3.2393 - val_accuracy: 0.5515\n",
            "Epoch 113/200\n",
            "62/62 [==============================] - 4s 63ms/step - loss: 0.0041 - accuracy: 0.9980 - val_loss: 3.2336 - val_accuracy: 0.5492\n",
            "Epoch 114/200\n",
            "62/62 [==============================] - 4s 62ms/step - loss: 0.0035 - accuracy: 0.9982 - val_loss: 3.2248 - val_accuracy: 0.5500\n",
            "Epoch 115/200\n",
            "62/62 [==============================] - 4s 62ms/step - loss: 0.0038 - accuracy: 0.9980 - val_loss: 3.2362 - val_accuracy: 0.5485\n",
            "Epoch 116/200\n",
            "62/62 [==============================] - 4s 62ms/step - loss: 0.0040 - accuracy: 0.9975 - val_loss: 3.2237 - val_accuracy: 0.5515\n",
            "Epoch 117/200\n",
            "62/62 [==============================] - 4s 65ms/step - loss: 0.0034 - accuracy: 0.9985 - val_loss: 3.2788 - val_accuracy: 0.5447\n",
            "Epoch 118/200\n",
            "62/62 [==============================] - 4s 62ms/step - loss: 0.0036 - accuracy: 0.9977 - val_loss: 3.2538 - val_accuracy: 0.5500\n",
            "Epoch 119/200\n",
            "62/62 [==============================] - 4s 65ms/step - loss: 0.0039 - accuracy: 0.9975 - val_loss: 3.2580 - val_accuracy: 0.5492\n",
            "Epoch 120/200\n",
            "62/62 [==============================] - 4s 62ms/step - loss: 0.0037 - accuracy: 0.9975 - val_loss: 3.2556 - val_accuracy: 0.5545\n",
            "Epoch 121/200\n",
            "62/62 [==============================] - 4s 62ms/step - loss: 0.0041 - accuracy: 0.9972 - val_loss: 3.2437 - val_accuracy: 0.5515\n",
            "Epoch 122/200\n",
            "62/62 [==============================] - 4s 62ms/step - loss: 0.0035 - accuracy: 0.9980 - val_loss: 3.2248 - val_accuracy: 0.5508\n",
            "Epoch 123/200\n",
            "62/62 [==============================] - 4s 62ms/step - loss: 0.0036 - accuracy: 0.9977 - val_loss: 3.2578 - val_accuracy: 0.5500\n",
            "Epoch 124/200\n",
            "62/62 [==============================] - 4s 62ms/step - loss: 0.0031 - accuracy: 0.9985 - val_loss: 3.2849 - val_accuracy: 0.5508\n",
            "Epoch 125/200\n",
            "62/62 [==============================] - 4s 62ms/step - loss: 0.0036 - accuracy: 0.9982 - val_loss: 3.2853 - val_accuracy: 0.5545\n",
            "Epoch 126/200\n",
            "62/62 [==============================] - 4s 63ms/step - loss: 0.0034 - accuracy: 0.9977 - val_loss: 3.3128 - val_accuracy: 0.5447\n",
            "Epoch 127/200\n",
            "62/62 [==============================] - 4s 63ms/step - loss: 0.0036 - accuracy: 0.9975 - val_loss: 3.2535 - val_accuracy: 0.5530\n",
            "Epoch 128/200\n",
            "62/62 [==============================] - 4s 62ms/step - loss: 0.0032 - accuracy: 0.9982 - val_loss: 3.3068 - val_accuracy: 0.5485\n",
            "Epoch 129/200\n",
            "62/62 [==============================] - 4s 64ms/step - loss: 0.0035 - accuracy: 0.9980 - val_loss: 3.3195 - val_accuracy: 0.5492\n",
            "Epoch 130/200\n",
            "62/62 [==============================] - 4s 68ms/step - loss: 0.0034 - accuracy: 0.9977 - val_loss: 3.2877 - val_accuracy: 0.5530\n",
            "Epoch 131/200\n",
            "62/62 [==============================] - 4s 62ms/step - loss: 0.0038 - accuracy: 0.9975 - val_loss: 3.2661 - val_accuracy: 0.5500\n",
            "Epoch 132/200\n",
            "62/62 [==============================] - 4s 64ms/step - loss: 0.0032 - accuracy: 0.9985 - val_loss: 3.3137 - val_accuracy: 0.5530\n",
            "Epoch 133/200\n",
            "62/62 [==============================] - 4s 62ms/step - loss: 0.0035 - accuracy: 0.9977 - val_loss: 3.2890 - val_accuracy: 0.5545\n",
            "Epoch 134/200\n",
            "62/62 [==============================] - 4s 64ms/step - loss: 0.0034 - accuracy: 0.9980 - val_loss: 3.3262 - val_accuracy: 0.5500\n",
            "Epoch 135/200\n",
            "62/62 [==============================] - 4s 62ms/step - loss: 0.0032 - accuracy: 0.9982 - val_loss: 3.3028 - val_accuracy: 0.5455\n",
            "Epoch 136/200\n",
            "62/62 [==============================] - 4s 62ms/step - loss: 0.0037 - accuracy: 0.9980 - val_loss: 3.3120 - val_accuracy: 0.5500\n",
            "Epoch 137/200\n",
            "62/62 [==============================] - 4s 62ms/step - loss: 0.0032 - accuracy: 0.9980 - val_loss: 3.3050 - val_accuracy: 0.5485\n",
            "Epoch 138/200\n",
            "62/62 [==============================] - 4s 62ms/step - loss: 0.0037 - accuracy: 0.9975 - val_loss: 3.2993 - val_accuracy: 0.5462\n",
            "Epoch 139/200\n",
            "62/62 [==============================] - 4s 62ms/step - loss: 0.0032 - accuracy: 0.9977 - val_loss: 3.3266 - val_accuracy: 0.5508\n",
            "Epoch 140/200\n",
            "62/62 [==============================] - 4s 62ms/step - loss: 0.0034 - accuracy: 0.9980 - val_loss: 3.3210 - val_accuracy: 0.5515\n",
            "Epoch 141/200\n",
            "62/62 [==============================] - 4s 62ms/step - loss: 0.0033 - accuracy: 0.9982 - val_loss: 3.3101 - val_accuracy: 0.5515\n",
            "Epoch 142/200\n",
            "62/62 [==============================] - 4s 62ms/step - loss: 0.0035 - accuracy: 0.9977 - val_loss: 3.3509 - val_accuracy: 0.5500\n",
            "Epoch 143/200\n",
            "62/62 [==============================] - 4s 62ms/step - loss: 0.0032 - accuracy: 0.9982 - val_loss: 3.3287 - val_accuracy: 0.5485\n",
            "Epoch 144/200\n",
            "62/62 [==============================] - 4s 62ms/step - loss: 0.0033 - accuracy: 0.9980 - val_loss: 3.3345 - val_accuracy: 0.5538\n",
            "Epoch 145/200\n",
            "62/62 [==============================] - 4s 62ms/step - loss: 0.0037 - accuracy: 0.9977 - val_loss: 3.2826 - val_accuracy: 0.5523\n",
            "Epoch 146/200\n",
            "62/62 [==============================] - 4s 62ms/step - loss: 0.0034 - accuracy: 0.9972 - val_loss: 3.3190 - val_accuracy: 0.5500\n",
            "Epoch 147/200\n",
            "62/62 [==============================] - 4s 63ms/step - loss: 0.0033 - accuracy: 0.9982 - val_loss: 3.3400 - val_accuracy: 0.5492\n",
            "Epoch 148/200\n",
            "62/62 [==============================] - 4s 62ms/step - loss: 0.0031 - accuracy: 0.9977 - val_loss: 3.3411 - val_accuracy: 0.5523\n",
            "Epoch 149/200\n",
            "62/62 [==============================] - 4s 62ms/step - loss: 0.0035 - accuracy: 0.9980 - val_loss: 3.3465 - val_accuracy: 0.5500\n",
            "Epoch 150/200\n",
            "62/62 [==============================] - 4s 62ms/step - loss: 0.0034 - accuracy: 0.9982 - val_loss: 3.3375 - val_accuracy: 0.5538\n",
            "Epoch 151/200\n",
            "62/62 [==============================] - 4s 62ms/step - loss: 0.0035 - accuracy: 0.9982 - val_loss: 3.3452 - val_accuracy: 0.5462\n",
            "Epoch 152/200\n",
            "62/62 [==============================] - 4s 62ms/step - loss: 0.0031 - accuracy: 0.9982 - val_loss: 3.3445 - val_accuracy: 0.5545\n",
            "Epoch 153/200\n",
            "62/62 [==============================] - 4s 62ms/step - loss: 0.0034 - accuracy: 0.9975 - val_loss: 3.2966 - val_accuracy: 0.5538\n",
            "Epoch 154/200\n",
            "62/62 [==============================] - 4s 63ms/step - loss: 0.0032 - accuracy: 0.9980 - val_loss: 3.3369 - val_accuracy: 0.5523\n",
            "Epoch 155/200\n",
            "62/62 [==============================] - 4s 63ms/step - loss: 0.0029 - accuracy: 0.9980 - val_loss: 3.3672 - val_accuracy: 0.5523\n",
            "Epoch 156/200\n",
            "62/62 [==============================] - 4s 62ms/step - loss: 0.0029 - accuracy: 0.9982 - val_loss: 3.3905 - val_accuracy: 0.5485\n",
            "Epoch 157/200\n",
            "62/62 [==============================] - 4s 62ms/step - loss: 0.0031 - accuracy: 0.9982 - val_loss: 3.3875 - val_accuracy: 0.5500\n",
            "Epoch 158/200\n",
            "62/62 [==============================] - 4s 61ms/step - loss: 0.0031 - accuracy: 0.9982 - val_loss: 3.3672 - val_accuracy: 0.5470\n",
            "Epoch 159/200\n",
            "62/62 [==============================] - 4s 62ms/step - loss: 0.0029 - accuracy: 0.9982 - val_loss: 3.4130 - val_accuracy: 0.5462\n",
            "Epoch 160/200\n",
            "62/62 [==============================] - 4s 62ms/step - loss: 0.0032 - accuracy: 0.9977 - val_loss: 3.4064 - val_accuracy: 0.5485\n",
            "Epoch 161/200\n",
            "62/62 [==============================] - 4s 63ms/step - loss: 0.0032 - accuracy: 0.9977 - val_loss: 3.4032 - val_accuracy: 0.5508\n",
            "Epoch 162/200\n",
            "62/62 [==============================] - 4s 63ms/step - loss: 0.0031 - accuracy: 0.9982 - val_loss: 3.3778 - val_accuracy: 0.5523\n",
            "Epoch 163/200\n",
            "62/62 [==============================] - 4s 62ms/step - loss: 0.0031 - accuracy: 0.9977 - val_loss: 3.3850 - val_accuracy: 0.5523\n",
            "Epoch 164/200\n",
            "62/62 [==============================] - 4s 62ms/step - loss: 0.0031 - accuracy: 0.9977 - val_loss: 3.4065 - val_accuracy: 0.5508\n",
            "Epoch 165/200\n",
            "62/62 [==============================] - 4s 62ms/step - loss: 0.0034 - accuracy: 0.9975 - val_loss: 3.3828 - val_accuracy: 0.5530\n",
            "Epoch 166/200\n",
            "62/62 [==============================] - 4s 64ms/step - loss: 0.0035 - accuracy: 0.9980 - val_loss: 3.3741 - val_accuracy: 0.5508\n",
            "Epoch 167/200\n",
            "62/62 [==============================] - 4s 64ms/step - loss: 0.0029 - accuracy: 0.9980 - val_loss: 3.3858 - val_accuracy: 0.5485\n",
            "Epoch 168/200\n",
            "62/62 [==============================] - 4s 62ms/step - loss: 0.0029 - accuracy: 0.9982 - val_loss: 3.4106 - val_accuracy: 0.5508\n",
            "Epoch 169/200\n",
            "62/62 [==============================] - 4s 62ms/step - loss: 0.0032 - accuracy: 0.9982 - val_loss: 3.4064 - val_accuracy: 0.5515\n",
            "Epoch 170/200\n",
            "62/62 [==============================] - 4s 63ms/step - loss: 0.0032 - accuracy: 0.9980 - val_loss: 3.4098 - val_accuracy: 0.5470\n",
            "Epoch 171/200\n",
            "62/62 [==============================] - 4s 62ms/step - loss: 0.0032 - accuracy: 0.9977 - val_loss: 3.4013 - val_accuracy: 0.5538\n",
            "Epoch 172/200\n",
            "62/62 [==============================] - 4s 63ms/step - loss: 0.0029 - accuracy: 0.9977 - val_loss: 3.4002 - val_accuracy: 0.5508\n",
            "Epoch 173/200\n",
            "62/62 [==============================] - 4s 62ms/step - loss: 0.0031 - accuracy: 0.9977 - val_loss: 3.4154 - val_accuracy: 0.5523\n",
            "Epoch 174/200\n",
            "62/62 [==============================] - 4s 62ms/step - loss: 0.0031 - accuracy: 0.9977 - val_loss: 3.4267 - val_accuracy: 0.5538\n",
            "Epoch 175/200\n",
            "62/62 [==============================] - 4s 62ms/step - loss: 0.0032 - accuracy: 0.9980 - val_loss: 3.4065 - val_accuracy: 0.5515\n",
            "Epoch 176/200\n",
            "62/62 [==============================] - 4s 63ms/step - loss: 0.0031 - accuracy: 0.9980 - val_loss: 3.4194 - val_accuracy: 0.5500\n",
            "Epoch 177/200\n",
            "62/62 [==============================] - 4s 65ms/step - loss: 0.0031 - accuracy: 0.9980 - val_loss: 3.4226 - val_accuracy: 0.5500\n",
            "Epoch 178/200\n",
            "62/62 [==============================] - 4s 63ms/step - loss: 0.0029 - accuracy: 0.9982 - val_loss: 3.4443 - val_accuracy: 0.5492\n",
            "Epoch 179/200\n",
            "62/62 [==============================] - 4s 65ms/step - loss: 0.0028 - accuracy: 0.9982 - val_loss: 3.4311 - val_accuracy: 0.5538\n",
            "Epoch 180/200\n",
            "62/62 [==============================] - 4s 62ms/step - loss: 0.0031 - accuracy: 0.9977 - val_loss: 3.4471 - val_accuracy: 0.5508\n",
            "Epoch 181/200\n",
            "62/62 [==============================] - 4s 63ms/step - loss: 0.0029 - accuracy: 0.9985 - val_loss: 3.4412 - val_accuracy: 0.5515\n",
            "Epoch 182/200\n",
            "62/62 [==============================] - 4s 62ms/step - loss: 0.0031 - accuracy: 0.9985 - val_loss: 3.4723 - val_accuracy: 0.5477\n",
            "Epoch 183/200\n",
            "62/62 [==============================] - 4s 62ms/step - loss: 0.0030 - accuracy: 0.9982 - val_loss: 3.4573 - val_accuracy: 0.5515\n",
            "Epoch 184/200\n",
            "62/62 [==============================] - 4s 62ms/step - loss: 0.0029 - accuracy: 0.9980 - val_loss: 3.4359 - val_accuracy: 0.5530\n",
            "Epoch 185/200\n",
            "62/62 [==============================] - 4s 62ms/step - loss: 0.0029 - accuracy: 0.9982 - val_loss: 3.4584 - val_accuracy: 0.5538\n",
            "Epoch 186/200\n",
            "62/62 [==============================] - 4s 62ms/step - loss: 0.0031 - accuracy: 0.9975 - val_loss: 3.4615 - val_accuracy: 0.5500\n",
            "Epoch 187/200\n",
            "62/62 [==============================] - 4s 62ms/step - loss: 0.0031 - accuracy: 0.9977 - val_loss: 3.4473 - val_accuracy: 0.5515\n",
            "Epoch 188/200\n",
            "62/62 [==============================] - 4s 64ms/step - loss: 0.0029 - accuracy: 0.9982 - val_loss: 3.4736 - val_accuracy: 0.5477\n",
            "Epoch 189/200\n",
            "62/62 [==============================] - 4s 61ms/step - loss: 0.0031 - accuracy: 0.9977 - val_loss: 3.4612 - val_accuracy: 0.5538\n",
            "Epoch 190/200\n",
            "62/62 [==============================] - 4s 65ms/step - loss: 0.0031 - accuracy: 0.9980 - val_loss: 3.4554 - val_accuracy: 0.5530\n",
            "Epoch 191/200\n",
            "62/62 [==============================] - 4s 65ms/step - loss: 0.0031 - accuracy: 0.9977 - val_loss: 3.4710 - val_accuracy: 0.5500\n",
            "Epoch 192/200\n",
            "62/62 [==============================] - 4s 65ms/step - loss: 0.0030 - accuracy: 0.9975 - val_loss: 3.4687 - val_accuracy: 0.5530\n",
            "Epoch 193/200\n",
            "62/62 [==============================] - 4s 61ms/step - loss: 0.0030 - accuracy: 0.9977 - val_loss: 3.4487 - val_accuracy: 0.5523\n",
            "Epoch 194/200\n",
            "62/62 [==============================] - 4s 62ms/step - loss: 0.0030 - accuracy: 0.9977 - val_loss: 3.4578 - val_accuracy: 0.5508\n",
            "Epoch 195/200\n",
            "62/62 [==============================] - 4s 66ms/step - loss: 0.0029 - accuracy: 0.9982 - val_loss: 3.4695 - val_accuracy: 0.5530\n",
            "Epoch 196/200\n",
            "62/62 [==============================] - 4s 64ms/step - loss: 0.0031 - accuracy: 0.9982 - val_loss: 3.4702 - val_accuracy: 0.5500\n",
            "Epoch 197/200\n",
            "62/62 [==============================] - 4s 62ms/step - loss: 0.0030 - accuracy: 0.9982 - val_loss: 3.4780 - val_accuracy: 0.5515\n",
            "Epoch 198/200\n",
            "62/62 [==============================] - 4s 62ms/step - loss: 0.0029 - accuracy: 0.9980 - val_loss: 3.4813 - val_accuracy: 0.5492\n",
            "Epoch 199/200\n",
            "62/62 [==============================] - 4s 62ms/step - loss: 0.0029 - accuracy: 0.9985 - val_loss: 3.4811 - val_accuracy: 0.5515\n",
            "Epoch 200/200\n",
            "62/62 [==============================] - 4s 62ms/step - loss: 0.0030 - accuracy: 0.9977 - val_loss: 3.4956 - val_accuracy: 0.5515\n"
          ]
        }
      ]
    },
    {
      "cell_type": "markdown",
      "source": [
        "Tiếp theo ta sẽ đi vẽ đồ thị về sai số kiểm tra và độ chính xác kiểm tra."
      ],
      "metadata": {
        "id": "4PQBHd5wzzVu"
      }
    },
    {
      "cell_type": "code",
      "source": [
        "score = model.evaluate(x_test, y_test, verbose=0)\n",
        "print('Sai số kiểm tra là: ',score[0])\n",
        "print('Độ chính xác kiểm tra là: ',score[1])\n",
        "plt.plot(history.history['accuracy'])\n",
        "plt.plot(history.history['val_accuracy'])\n",
        "plt.ylabel('accuracy')\n",
        "plt.xlabel('epochs')\n",
        "plt.legend(['Train','Validation'])\n",
        "plt.show()"
      ],
      "metadata": {
        "id": "3_hVLemFUBD_",
        "colab": {
          "base_uri": "https://localhost:8080/",
          "height": 315
        },
        "outputId": "f817f565-feb0-4588-8d97-97a7596644ff"
      },
      "execution_count": null,
      "outputs": [
        {
          "output_type": "stream",
          "name": "stdout",
          "text": [
            "Sai số kiểm tra là:  3.495633125305176\n",
            "Độ chính xác kiểm tra là:  0.5515151619911194\n"
          ]
        },
        {
          "output_type": "display_data",
          "data": {
            "text/plain": [
              "<Figure size 432x288 with 1 Axes>"
            ],
            "image/png": "[encoded data removed]"
          },
          "metadata": {
            "needs_background": "light"
          }
        }
      ]
    },
    {
      "cell_type": "markdown",
      "source": [
        "# **II. Dự đoán giới tính**"
      ],
      "metadata": {
        "id": "5TSCzxNL0Ewd"
      }
    },
    {
      "cell_type": "markdown",
      "source": [
        "Tạo tên class tương ứng với dữ liệu đầu vào (ở đây ta thực hiện cho bài toán nhận dạng giới tính nên chia thành 2 class tương ứng là: male-nam và female-nữ)."
      ],
      "metadata": {
        "id": "9kODBSK80Ofv"
      }
    },
    {
      "cell_type": "code",
      "source": [
        "folder1 = '/content/drive/MyDrive/Colab Notebooks/data/Gender/Female'\n",
        "folder2 = '/content/drive/MyDrive/Colab Notebooks/data/Gender/Male'\n",
        "photos, labels = list(), list()\n",
        "for file in listdir(folder1):\n",
        "  photo = load_img(folder1+'/'+file, target_size=(150,150))\n",
        "  photo = img_to_array(photo)\n",
        "  photos.append(photo)              \n",
        "  labels.append(0) \n",
        "for file in listdir(folder2):\n",
        "  photo = load_img(folder2+'/'+file, target_size=(150,150))\n",
        "  photo = img_to_array(photo)\n",
        "  photos.append(photo)              \n",
        "  labels.append(1) \n",
        "\n",
        "photos = asarray(photos)            #lưu dữ liệu ảnh dưới dạng mảng\n",
        "labels = asarray(labels)            #lưu dữ liệu phân loại dạng mảng\n",
        "class_name =  ['Gender: Female','Gender: Male']   #tạo tên class tương ứng với dữ liệu phân loại\n",
        "print(photos.shape, labels.shape, class_name)"
      ],
      "metadata": {
        "id": "qbHX1StkHRw9",
        "colab": {
          "base_uri": "https://localhost:8080/"
        },
        "outputId": "f8252d9f-066c-4e61-fd81-55d10eadf9d3"
      },
      "execution_count": null,
      "outputs": [
        {
          "output_type": "stream",
          "name": "stdout",
          "text": [
            "(5646, 150, 150, 3) (5646,) ['Gender: Female', 'Gender: Male']\n"
          ]
        }
      ]
    },
    {
      "cell_type": "markdown",
      "source": [
        "Tạo dữ liệu với 75% dành cho việc training và 25% dành cho việc test."
      ],
      "metadata": {
        "id": "elktZoJi0sAX"
      }
    },
    {
      "cell_type": "code",
      "source": [
        "x_train, x_test, y_train, y_test = train_test_split(photos, labels, test_size=0.25, random_state=5)   #tạo dữ liệu train 75% và test 25%\n",
        "print(x_train.shape,x_test.shape)\n",
        "print(y_train.shape,y_test.shape)"
      ],
      "metadata": {
        "id": "Dt5ED9NEIrVu",
        "colab": {
          "base_uri": "https://localhost:8080/"
        },
        "outputId": "515a95a5-e5b8-40da-da6f-c899e3a9c298"
      },
      "execution_count": null,
      "outputs": [
        {
          "output_type": "stream",
          "name": "stdout",
          "text": [
            "(4234, 150, 150, 3) (1412, 150, 150, 3)\n",
            "(4234,) (1412,)\n"
          ]
        }
      ]
    },
    {
      "cell_type": "markdown",
      "source": [
        "Show 9 ảnh ngẫu nhiên dưới dạng ma trận 3x3."
      ],
      "metadata": {
        "id": "kbCsu7j-0wSN"
      }
    },
    {
      "cell_type": "code",
      "source": [
        "x_train_show = x_train.astype(int)            \n",
        "import matplotlib.pyplot as plt\n",
        "from matplotlib.image import imread\n",
        "for i in range(9):\n",
        "  plt.subplot(330+i+1)\n",
        "  plt.imshow(x_train_show[i])\n",
        "plt.show()"
      ],
      "metadata": {
        "id": "SZdX5-CWI-ad",
        "colab": {
          "base_uri": "https://localhost:8080/",
          "height": 269
        },
        "outputId": "a995da5d-796e-4df1-d487-c425b91f9ede"
      },
      "execution_count": null,
      "outputs": [
        {
          "output_type": "display_data",
          "data": {
            "text/plain": [
              "<Figure size 432x288 with 9 Axes>"
            ],
            "image/png": "[encoded data removed]"
          },
          "metadata": {
            "needs_background": "light"
          }
        }
      ]
    },
    {
      "cell_type": "markdown",
      "source": [
        "Thực hiện quá trình chuẩn hóa dữ liệu."
      ],
      "metadata": {
        "id": "CWqgjjYG02tv"
      }
    },
    {
      "cell_type": "code",
      "source": [
        "x_train/=255\n",
        "x_test/=255\n",
        "y_train=np_utils.to_categorical(y_train)\n",
        "y_test=np_utils.to_categorical(y_test)"
      ],
      "metadata": {
        "id": "5TxTSIERJE84"
      },
      "execution_count": null,
      "outputs": []
    },
    {
      "cell_type": "markdown",
      "source": [
        "Tạo mô hình mạng CNN với 3 lớp (Convolution, ReLU, Max Pooling)."
      ],
      "metadata": {
        "id": "hja4VTUj07x6"
      }
    },
    {
      "cell_type": "code",
      "source": [
        "model = Sequential()\n",
        "model.add(Conv2D(32,(3,3), activation = 'relu', kernel_initializer='he_uniform',padding='same',input_shape=(150,150,3)))\n",
        "model.add(MaxPooling2D((2,2)))\n",
        "\n",
        "model.add(Conv2D(64,(3,3), activation = 'relu', kernel_initializer='he_uniform',padding='same',))\n",
        "model.add(MaxPooling2D((2,2)))\n",
        "\n",
        "model.add(Conv2D(128,(3,3), activation = 'relu', kernel_initializer='he_uniform',padding='same',))\n",
        "model.add(MaxPooling2D((2,2)))"
      ],
      "metadata": {
        "id": "crFdOgKWJF_M"
      },
      "execution_count": null,
      "outputs": []
    },
    {
      "cell_type": "markdown",
      "source": [
        "Ta tiến hành training dữ liệu để máy tính học 200 lần với batch_size =64 (batch_size là số lượng mẫu trong 1 lần huấn luyện, batch_size =64 nghĩa là 1 lần lặp ta sẽ cho ngẫu nhiên 64 bức hình chạy lan truyền tiến trong mạng CNN). Sau khi training xong ta sẽ thu được một file model."
      ],
      "metadata": {
        "id": "xJyuC9Hn1A0K"
      }
    },
    {
      "cell_type": "code",
      "source": [
        "model.add(Flatten())\n",
        "model.add(Dense(128, activation='relu', kernel_initializer='he_uniform'))  #Dense la full connected \n",
        "model.add(Dense(2, activation='Softmax'))\n",
        "opt = SGD(lr=0.01, momentum=0.9)\n",
        "model.compile(optimizer=opt,loss='categorical_crossentropy',  metrics=['accuracy'])\n",
        "history = model.fit(x_train,y_train, batch_size=64,epochs=200,verbose=1,validation_data = (x_test, y_test))\n",
        "model.save('/content/drive/MyDrive/gender.h5')"
      ],
      "metadata": {
        "id": "iWtdfD2gJNHV",
        "colab": {
          "base_uri": "https://localhost:8080/"
        },
        "outputId": "5b4f6047-9b2a-4336-a99e-0ea9a7024e8f"
      },
      "execution_count": null,
      "outputs": [
        {
          "output_type": "stream",
          "name": "stderr",
          "text": [
            "/usr/local/lib/python3.7/dist-packages/keras/optimizer_v2/gradient_descent.py:102: UserWarning: The `lr` argument is deprecated, use `learning_rate` instead.\n",
            "  super(SGD, self).__init__(name, **kwargs)\n"
          ]
        },
        {
          "output_type": "stream",
          "name": "stdout",
          "text": [
            "Epoch 1/200\n",
            "67/67 [==============================] - 6s 75ms/step - loss: 0.6099 - accuracy: 0.7556 - val_loss: 0.3178 - val_accuracy: 0.8647\n",
            "Epoch 2/200\n",
            "67/67 [==============================] - 4s 59ms/step - loss: 0.2751 - accuracy: 0.8843 - val_loss: 0.3855 - val_accuracy: 0.8329\n",
            "Epoch 3/200\n",
            "67/67 [==============================] - 4s 66ms/step - loss: 0.2358 - accuracy: 0.9074 - val_loss: 0.2742 - val_accuracy: 0.8803\n",
            "Epoch 4/200\n",
            "67/67 [==============================] - 5s 72ms/step - loss: 0.1742 - accuracy: 0.9291 - val_loss: 0.1653 - val_accuracy: 0.9384\n",
            "Epoch 5/200\n",
            "67/67 [==============================] - 4s 62ms/step - loss: 0.1355 - accuracy: 0.9464 - val_loss: 0.1422 - val_accuracy: 0.9476\n",
            "Epoch 6/200\n",
            "67/67 [==============================] - 5s 68ms/step - loss: 0.1094 - accuracy: 0.9589 - val_loss: 0.1426 - val_accuracy: 0.9441\n",
            "Epoch 7/200\n",
            "67/67 [==============================] - 4s 62ms/step - loss: 0.1103 - accuracy: 0.9577 - val_loss: 0.2605 - val_accuracy: 0.9051\n",
            "Epoch 8/200\n",
            "67/67 [==============================] - 4s 61ms/step - loss: 0.1288 - accuracy: 0.9504 - val_loss: 0.1444 - val_accuracy: 0.9441\n",
            "Epoch 9/200\n",
            "67/67 [==============================] - 4s 61ms/step - loss: 0.0774 - accuracy: 0.9726 - val_loss: 0.1453 - val_accuracy: 0.9476\n",
            "Epoch 10/200\n",
            "67/67 [==============================] - 4s 61ms/step - loss: 0.0657 - accuracy: 0.9735 - val_loss: 0.1765 - val_accuracy: 0.9497\n",
            "Epoch 11/200\n",
            "67/67 [==============================] - 4s 61ms/step - loss: 0.0520 - accuracy: 0.9785 - val_loss: 0.2081 - val_accuracy: 0.9419\n",
            "Epoch 12/200\n",
            "67/67 [==============================] - 4s 63ms/step - loss: 0.0598 - accuracy: 0.9797 - val_loss: 0.1587 - val_accuracy: 0.9490\n",
            "Epoch 13/200\n",
            "67/67 [==============================] - 4s 65ms/step - loss: 0.0343 - accuracy: 0.9889 - val_loss: 0.2036 - val_accuracy: 0.9356\n",
            "Epoch 14/200\n",
            "67/67 [==============================] - 4s 61ms/step - loss: 0.0449 - accuracy: 0.9828 - val_loss: 0.1574 - val_accuracy: 0.9483\n",
            "Epoch 15/200\n",
            "67/67 [==============================] - 4s 61ms/step - loss: 0.0206 - accuracy: 0.9950 - val_loss: 0.2078 - val_accuracy: 0.9419\n",
            "Epoch 16/200\n",
            "67/67 [==============================] - 4s 64ms/step - loss: 0.0113 - accuracy: 0.9974 - val_loss: 0.2056 - val_accuracy: 0.9391\n",
            "Epoch 17/200\n",
            "67/67 [==============================] - 4s 63ms/step - loss: 0.0103 - accuracy: 0.9969 - val_loss: 0.2053 - val_accuracy: 0.9504\n",
            "Epoch 18/200\n",
            "67/67 [==============================] - 4s 65ms/step - loss: 0.0046 - accuracy: 0.9993 - val_loss: 0.2141 - val_accuracy: 0.9462\n",
            "Epoch 19/200\n",
            "67/67 [==============================] - 4s 62ms/step - loss: 0.0042 - accuracy: 0.9995 - val_loss: 0.2171 - val_accuracy: 0.9561\n",
            "Epoch 20/200\n",
            "67/67 [==============================] - 4s 60ms/step - loss: 0.0021 - accuracy: 1.0000 - val_loss: 0.2343 - val_accuracy: 0.9533\n",
            "Epoch 21/200\n",
            "67/67 [==============================] - 4s 61ms/step - loss: 0.0010 - accuracy: 1.0000 - val_loss: 0.2388 - val_accuracy: 0.9504\n",
            "Epoch 22/200\n",
            "67/67 [==============================] - 4s 60ms/step - loss: 7.3076e-04 - accuracy: 1.0000 - val_loss: 0.2456 - val_accuracy: 0.9504\n",
            "Epoch 23/200\n",
            "67/67 [==============================] - 4s 61ms/step - loss: 6.5879e-04 - accuracy: 1.0000 - val_loss: 0.2489 - val_accuracy: 0.9497\n",
            "Epoch 24/200\n",
            "67/67 [==============================] - 4s 62ms/step - loss: 5.4414e-04 - accuracy: 1.0000 - val_loss: 0.2532 - val_accuracy: 0.9497\n",
            "Epoch 25/200\n",
            "67/67 [==============================] - 4s 61ms/step - loss: 4.5934e-04 - accuracy: 1.0000 - val_loss: 0.2592 - val_accuracy: 0.9497\n",
            "Epoch 26/200\n",
            "67/67 [==============================] - 4s 63ms/step - loss: 4.1221e-04 - accuracy: 1.0000 - val_loss: 0.2607 - val_accuracy: 0.9490\n",
            "Epoch 27/200\n",
            "67/67 [==============================] - 4s 61ms/step - loss: 3.7441e-04 - accuracy: 1.0000 - val_loss: 0.2627 - val_accuracy: 0.9490\n",
            "Epoch 28/200\n",
            "67/67 [==============================] - 4s 61ms/step - loss: 3.3952e-04 - accuracy: 1.0000 - val_loss: 0.2663 - val_accuracy: 0.9483\n",
            "Epoch 29/200\n",
            "67/67 [==============================] - 4s 61ms/step - loss: 3.1166e-04 - accuracy: 1.0000 - val_loss: 0.2706 - val_accuracy: 0.9483\n",
            "Epoch 30/200\n",
            "67/67 [==============================] - 4s 61ms/step - loss: 2.8774e-04 - accuracy: 1.0000 - val_loss: 0.2730 - val_accuracy: 0.9490\n",
            "Epoch 31/200\n",
            "67/67 [==============================] - 4s 60ms/step - loss: 2.6459e-04 - accuracy: 1.0000 - val_loss: 0.2787 - val_accuracy: 0.9518\n",
            "Epoch 32/200\n",
            "67/67 [==============================] - 4s 61ms/step - loss: 2.5611e-04 - accuracy: 1.0000 - val_loss: 0.2801 - val_accuracy: 0.9490\n",
            "Epoch 33/200\n",
            "67/67 [==============================] - 4s 61ms/step - loss: 2.3292e-04 - accuracy: 1.0000 - val_loss: 0.2829 - val_accuracy: 0.9504\n",
            "Epoch 34/200\n",
            "67/67 [==============================] - 4s 61ms/step - loss: 2.2717e-04 - accuracy: 1.0000 - val_loss: 0.2850 - val_accuracy: 0.9497\n",
            "Epoch 35/200\n",
            "67/67 [==============================] - 4s 63ms/step - loss: 2.0748e-04 - accuracy: 1.0000 - val_loss: 0.2855 - val_accuracy: 0.9483\n",
            "Epoch 36/200\n",
            "67/67 [==============================] - 4s 61ms/step - loss: 1.9499e-04 - accuracy: 1.0000 - val_loss: 0.2874 - val_accuracy: 0.9469\n",
            "Epoch 37/200\n",
            "67/67 [==============================] - 4s 63ms/step - loss: 1.8303e-04 - accuracy: 1.0000 - val_loss: 0.2909 - val_accuracy: 0.9483\n",
            "Epoch 38/200\n",
            "67/67 [==============================] - 4s 62ms/step - loss: 1.7695e-04 - accuracy: 1.0000 - val_loss: 0.2921 - val_accuracy: 0.9476\n",
            "Epoch 39/200\n",
            "67/67 [==============================] - 4s 61ms/step - loss: 1.6830e-04 - accuracy: 1.0000 - val_loss: 0.2941 - val_accuracy: 0.9476\n",
            "Epoch 40/200\n",
            "67/67 [==============================] - 4s 61ms/step - loss: 1.5893e-04 - accuracy: 1.0000 - val_loss: 0.2966 - val_accuracy: 0.9497\n",
            "Epoch 41/200\n",
            "67/67 [==============================] - 4s 61ms/step - loss: 1.5329e-04 - accuracy: 1.0000 - val_loss: 0.2972 - val_accuracy: 0.9476\n",
            "Epoch 42/200\n",
            "67/67 [==============================] - 4s 63ms/step - loss: 1.4659e-04 - accuracy: 1.0000 - val_loss: 0.2982 - val_accuracy: 0.9462\n",
            "Epoch 43/200\n",
            "67/67 [==============================] - 4s 62ms/step - loss: 1.3983e-04 - accuracy: 1.0000 - val_loss: 0.2996 - val_accuracy: 0.9455\n",
            "Epoch 44/200\n",
            "67/67 [==============================] - 4s 63ms/step - loss: 1.3533e-04 - accuracy: 1.0000 - val_loss: 0.3027 - val_accuracy: 0.9476\n",
            "Epoch 45/200\n",
            "67/67 [==============================] - 4s 60ms/step - loss: 1.3118e-04 - accuracy: 1.0000 - val_loss: 0.3035 - val_accuracy: 0.9476\n",
            "Epoch 46/200\n",
            "67/67 [==============================] - 4s 65ms/step - loss: 1.2444e-04 - accuracy: 1.0000 - val_loss: 0.3049 - val_accuracy: 0.9483\n",
            "Epoch 47/200\n",
            "67/67 [==============================] - 4s 63ms/step - loss: 1.2122e-04 - accuracy: 1.0000 - val_loss: 0.3052 - val_accuracy: 0.9455\n",
            "Epoch 48/200\n",
            "67/67 [==============================] - 4s 63ms/step - loss: 1.2058e-04 - accuracy: 1.0000 - val_loss: 0.3070 - val_accuracy: 0.9462\n",
            "Epoch 49/200\n",
            "67/67 [==============================] - 4s 61ms/step - loss: 1.1355e-04 - accuracy: 1.0000 - val_loss: 0.3086 - val_accuracy: 0.9476\n",
            "Epoch 50/200\n",
            "67/67 [==============================] - 4s 61ms/step - loss: 1.1005e-04 - accuracy: 1.0000 - val_loss: 0.3099 - val_accuracy: 0.9462\n",
            "Epoch 51/200\n",
            "67/67 [==============================] - 4s 61ms/step - loss: 1.0547e-04 - accuracy: 1.0000 - val_loss: 0.3103 - val_accuracy: 0.9462\n",
            "Epoch 52/200\n",
            "67/67 [==============================] - 4s 61ms/step - loss: 1.0271e-04 - accuracy: 1.0000 - val_loss: 0.3118 - val_accuracy: 0.9469\n",
            "Epoch 53/200\n",
            "67/67 [==============================] - 4s 61ms/step - loss: 9.8920e-05 - accuracy: 1.0000 - val_loss: 0.3129 - val_accuracy: 0.9462\n",
            "Epoch 54/200\n",
            "67/67 [==============================] - 4s 61ms/step - loss: 9.7528e-05 - accuracy: 1.0000 - val_loss: 0.3147 - val_accuracy: 0.9469\n",
            "Epoch 55/200\n",
            "67/67 [==============================] - 4s 61ms/step - loss: 9.4092e-05 - accuracy: 1.0000 - val_loss: 0.3154 - val_accuracy: 0.9462\n",
            "Epoch 56/200\n",
            "67/67 [==============================] - 4s 61ms/step - loss: 9.1227e-05 - accuracy: 1.0000 - val_loss: 0.3161 - val_accuracy: 0.9462\n",
            "Epoch 57/200\n",
            "67/67 [==============================] - 4s 61ms/step - loss: 8.9456e-05 - accuracy: 1.0000 - val_loss: 0.3171 - val_accuracy: 0.9462\n",
            "Epoch 58/200\n",
            "67/67 [==============================] - 4s 61ms/step - loss: 8.5505e-05 - accuracy: 1.0000 - val_loss: 0.3192 - val_accuracy: 0.9483\n",
            "Epoch 59/200\n",
            "67/67 [==============================] - 4s 62ms/step - loss: 8.3649e-05 - accuracy: 1.0000 - val_loss: 0.3195 - val_accuracy: 0.9462\n",
            "Epoch 60/200\n",
            "67/67 [==============================] - 4s 63ms/step - loss: 8.0634e-05 - accuracy: 1.0000 - val_loss: 0.3203 - val_accuracy: 0.9462\n",
            "Epoch 61/200\n",
            "67/67 [==============================] - 4s 61ms/step - loss: 7.9380e-05 - accuracy: 1.0000 - val_loss: 0.3216 - val_accuracy: 0.9462\n",
            "Epoch 62/200\n",
            "67/67 [==============================] - 4s 61ms/step - loss: 7.7477e-05 - accuracy: 1.0000 - val_loss: 0.3234 - val_accuracy: 0.9483\n",
            "Epoch 63/200\n",
            "67/67 [==============================] - 4s 62ms/step - loss: 7.5283e-05 - accuracy: 1.0000 - val_loss: 0.3250 - val_accuracy: 0.9497\n",
            "Epoch 64/200\n",
            "67/67 [==============================] - 4s 61ms/step - loss: 7.4122e-05 - accuracy: 1.0000 - val_loss: 0.3249 - val_accuracy: 0.9483\n",
            "Epoch 65/200\n",
            "67/67 [==============================] - 4s 63ms/step - loss: 7.2108e-05 - accuracy: 1.0000 - val_loss: 0.3253 - val_accuracy: 0.9469\n",
            "Epoch 66/200\n",
            "67/67 [==============================] - 4s 61ms/step - loss: 7.0243e-05 - accuracy: 1.0000 - val_loss: 0.3273 - val_accuracy: 0.9483\n",
            "Epoch 67/200\n",
            "67/67 [==============================] - 4s 61ms/step - loss: 6.9961e-05 - accuracy: 1.0000 - val_loss: 0.3278 - val_accuracy: 0.9483\n",
            "Epoch 68/200\n",
            "67/67 [==============================] - 4s 61ms/step - loss: 6.7443e-05 - accuracy: 1.0000 - val_loss: 0.3282 - val_accuracy: 0.9483\n",
            "Epoch 69/200\n",
            "67/67 [==============================] - 4s 61ms/step - loss: 6.6277e-05 - accuracy: 1.0000 - val_loss: 0.3293 - val_accuracy: 0.9483\n",
            "Epoch 70/200\n",
            "67/67 [==============================] - 4s 61ms/step - loss: 6.4551e-05 - accuracy: 1.0000 - val_loss: 0.3297 - val_accuracy: 0.9476\n",
            "Epoch 71/200\n",
            "67/67 [==============================] - 4s 63ms/step - loss: 6.3592e-05 - accuracy: 1.0000 - val_loss: 0.3306 - val_accuracy: 0.9469\n",
            "Epoch 72/200\n",
            "67/67 [==============================] - 4s 63ms/step - loss: 6.2134e-05 - accuracy: 1.0000 - val_loss: 0.3317 - val_accuracy: 0.9476\n",
            "Epoch 73/200\n",
            "67/67 [==============================] - 4s 62ms/step - loss: 6.1030e-05 - accuracy: 1.0000 - val_loss: 0.3324 - val_accuracy: 0.9476\n",
            "Epoch 74/200\n",
            "67/67 [==============================] - 4s 61ms/step - loss: 5.9459e-05 - accuracy: 1.0000 - val_loss: 0.3327 - val_accuracy: 0.9469\n",
            "Epoch 75/200\n",
            "67/67 [==============================] - 4s 61ms/step - loss: 5.8237e-05 - accuracy: 1.0000 - val_loss: 0.3338 - val_accuracy: 0.9469\n",
            "Epoch 76/200\n",
            "67/67 [==============================] - 4s 61ms/step - loss: 5.7535e-05 - accuracy: 1.0000 - val_loss: 0.3349 - val_accuracy: 0.9483\n",
            "Epoch 77/200\n",
            "67/67 [==============================] - 4s 62ms/step - loss: 5.6273e-05 - accuracy: 1.0000 - val_loss: 0.3355 - val_accuracy: 0.9483\n",
            "Epoch 78/200\n",
            "67/67 [==============================] - 4s 61ms/step - loss: 5.5382e-05 - accuracy: 1.0000 - val_loss: 0.3362 - val_accuracy: 0.9476\n",
            "Epoch 79/200\n",
            "67/67 [==============================] - 4s 61ms/step - loss: 5.4200e-05 - accuracy: 1.0000 - val_loss: 0.3364 - val_accuracy: 0.9469\n",
            "Epoch 80/200\n",
            "67/67 [==============================] - 4s 61ms/step - loss: 5.3142e-05 - accuracy: 1.0000 - val_loss: 0.3385 - val_accuracy: 0.9483\n",
            "Epoch 81/200\n",
            "67/67 [==============================] - 4s 62ms/step - loss: 5.2386e-05 - accuracy: 1.0000 - val_loss: 0.3383 - val_accuracy: 0.9476\n",
            "Epoch 82/200\n",
            "67/67 [==============================] - 4s 60ms/step - loss: 5.1606e-05 - accuracy: 1.0000 - val_loss: 0.3395 - val_accuracy: 0.9483\n",
            "Epoch 83/200\n",
            "67/67 [==============================] - 4s 63ms/step - loss: 5.0473e-05 - accuracy: 1.0000 - val_loss: 0.3404 - val_accuracy: 0.9483\n",
            "Epoch 84/200\n",
            "67/67 [==============================] - 4s 61ms/step - loss: 4.9878e-05 - accuracy: 1.0000 - val_loss: 0.3412 - val_accuracy: 0.9483\n",
            "Epoch 85/200\n",
            "67/67 [==============================] - 4s 61ms/step - loss: 4.8931e-05 - accuracy: 1.0000 - val_loss: 0.3419 - val_accuracy: 0.9483\n",
            "Epoch 86/200\n",
            "67/67 [==============================] - 4s 61ms/step - loss: 4.7869e-05 - accuracy: 1.0000 - val_loss: 0.3421 - val_accuracy: 0.9483\n",
            "Epoch 87/200\n",
            "67/67 [==============================] - 4s 61ms/step - loss: 4.7090e-05 - accuracy: 1.0000 - val_loss: 0.3426 - val_accuracy: 0.9483\n",
            "Epoch 88/200\n",
            "67/67 [==============================] - 4s 61ms/step - loss: 4.6800e-05 - accuracy: 1.0000 - val_loss: 0.3428 - val_accuracy: 0.9469\n",
            "Epoch 89/200\n",
            "67/67 [==============================] - 4s 62ms/step - loss: 4.5443e-05 - accuracy: 1.0000 - val_loss: 0.3446 - val_accuracy: 0.9483\n",
            "Epoch 90/200\n",
            "67/67 [==============================] - 4s 61ms/step - loss: 4.5278e-05 - accuracy: 1.0000 - val_loss: 0.3450 - val_accuracy: 0.9483\n",
            "Epoch 91/200\n",
            "67/67 [==============================] - 4s 61ms/step - loss: 4.4335e-05 - accuracy: 1.0000 - val_loss: 0.3450 - val_accuracy: 0.9483\n",
            "Epoch 92/200\n",
            "67/67 [==============================] - 4s 61ms/step - loss: 4.3550e-05 - accuracy: 1.0000 - val_loss: 0.3459 - val_accuracy: 0.9483\n",
            "Epoch 93/200\n",
            "67/67 [==============================] - 4s 61ms/step - loss: 4.2945e-05 - accuracy: 1.0000 - val_loss: 0.3463 - val_accuracy: 0.9483\n",
            "Epoch 94/200\n",
            "67/67 [==============================] - 4s 61ms/step - loss: 4.2429e-05 - accuracy: 1.0000 - val_loss: 0.3473 - val_accuracy: 0.9483\n",
            "Epoch 95/200\n",
            "67/67 [==============================] - 4s 61ms/step - loss: 4.1768e-05 - accuracy: 1.0000 - val_loss: 0.3486 - val_accuracy: 0.9490\n",
            "Epoch 96/200\n",
            "67/67 [==============================] - 4s 61ms/step - loss: 4.1263e-05 - accuracy: 1.0000 - val_loss: 0.3481 - val_accuracy: 0.9483\n",
            "Epoch 97/200\n",
            "67/67 [==============================] - 4s 61ms/step - loss: 4.0587e-05 - accuracy: 1.0000 - val_loss: 0.3490 - val_accuracy: 0.9483\n",
            "Epoch 98/200\n",
            "67/67 [==============================] - 4s 63ms/step - loss: 4.0100e-05 - accuracy: 1.0000 - val_loss: 0.3495 - val_accuracy: 0.9483\n",
            "Epoch 99/200\n",
            "67/67 [==============================] - 4s 61ms/step - loss: 3.9296e-05 - accuracy: 1.0000 - val_loss: 0.3498 - val_accuracy: 0.9483\n",
            "Epoch 100/200\n",
            "67/67 [==============================] - 4s 63ms/step - loss: 3.9036e-05 - accuracy: 1.0000 - val_loss: 0.3501 - val_accuracy: 0.9483\n",
            "Epoch 101/200\n",
            "67/67 [==============================] - 4s 61ms/step - loss: 3.8349e-05 - accuracy: 1.0000 - val_loss: 0.3513 - val_accuracy: 0.9490\n",
            "Epoch 102/200\n",
            "67/67 [==============================] - 4s 63ms/step - loss: 3.7823e-05 - accuracy: 1.0000 - val_loss: 0.3518 - val_accuracy: 0.9483\n",
            "Epoch 103/200\n",
            "67/67 [==============================] - 4s 61ms/step - loss: 3.7354e-05 - accuracy: 1.0000 - val_loss: 0.3523 - val_accuracy: 0.9483\n",
            "Epoch 104/200\n",
            "67/67 [==============================] - 4s 60ms/step - loss: 3.6839e-05 - accuracy: 1.0000 - val_loss: 0.3537 - val_accuracy: 0.9490\n",
            "Epoch 105/200\n",
            "67/67 [==============================] - 4s 62ms/step - loss: 3.6466e-05 - accuracy: 1.0000 - val_loss: 0.3534 - val_accuracy: 0.9483\n",
            "Epoch 106/200\n",
            "67/67 [==============================] - 4s 61ms/step - loss: 3.5804e-05 - accuracy: 1.0000 - val_loss: 0.3539 - val_accuracy: 0.9483\n",
            "Epoch 107/200\n",
            "67/67 [==============================] - 4s 63ms/step - loss: 3.5431e-05 - accuracy: 1.0000 - val_loss: 0.3539 - val_accuracy: 0.9483\n",
            "Epoch 108/200\n",
            "67/67 [==============================] - 4s 63ms/step - loss: 3.4908e-05 - accuracy: 1.0000 - val_loss: 0.3553 - val_accuracy: 0.9490\n",
            "Epoch 109/200\n",
            "67/67 [==============================] - 4s 61ms/step - loss: 3.4362e-05 - accuracy: 1.0000 - val_loss: 0.3556 - val_accuracy: 0.9483\n",
            "Epoch 110/200\n",
            "67/67 [==============================] - 4s 66ms/step - loss: 3.4125e-05 - accuracy: 1.0000 - val_loss: 0.3563 - val_accuracy: 0.9483\n",
            "Epoch 111/200\n",
            "67/67 [==============================] - 4s 61ms/step - loss: 3.3593e-05 - accuracy: 1.0000 - val_loss: 0.3566 - val_accuracy: 0.9483\n",
            "Epoch 112/200\n",
            "67/67 [==============================] - 4s 62ms/step - loss: 3.3233e-05 - accuracy: 1.0000 - val_loss: 0.3579 - val_accuracy: 0.9490\n",
            "Epoch 113/200\n",
            "67/67 [==============================] - 4s 61ms/step - loss: 3.2794e-05 - accuracy: 1.0000 - val_loss: 0.3578 - val_accuracy: 0.9483\n",
            "Epoch 114/200\n",
            "67/67 [==============================] - 4s 61ms/step - loss: 3.2464e-05 - accuracy: 1.0000 - val_loss: 0.3580 - val_accuracy: 0.9483\n",
            "Epoch 115/200\n",
            "67/67 [==============================] - 4s 63ms/step - loss: 3.2067e-05 - accuracy: 1.0000 - val_loss: 0.3588 - val_accuracy: 0.9490\n",
            "Epoch 116/200\n",
            "67/67 [==============================] - 4s 61ms/step - loss: 3.1639e-05 - accuracy: 1.0000 - val_loss: 0.3589 - val_accuracy: 0.9483\n",
            "Epoch 117/200\n",
            "67/67 [==============================] - 4s 61ms/step - loss: 3.1270e-05 - accuracy: 1.0000 - val_loss: 0.3593 - val_accuracy: 0.9483\n",
            "Epoch 118/200\n",
            "67/67 [==============================] - 4s 62ms/step - loss: 3.0955e-05 - accuracy: 1.0000 - val_loss: 0.3601 - val_accuracy: 0.9483\n",
            "Epoch 119/200\n",
            "67/67 [==============================] - 4s 61ms/step - loss: 3.0713e-05 - accuracy: 1.0000 - val_loss: 0.3607 - val_accuracy: 0.9490\n",
            "Epoch 120/200\n",
            "67/67 [==============================] - 4s 62ms/step - loss: 3.0604e-05 - accuracy: 1.0000 - val_loss: 0.3602 - val_accuracy: 0.9469\n",
            "Epoch 121/200\n",
            "67/67 [==============================] - 4s 63ms/step - loss: 2.9987e-05 - accuracy: 1.0000 - val_loss: 0.3611 - val_accuracy: 0.9483\n",
            "Epoch 122/200\n",
            "67/67 [==============================] - 4s 61ms/step - loss: 2.9643e-05 - accuracy: 1.0000 - val_loss: 0.3617 - val_accuracy: 0.9483\n",
            "Epoch 123/200\n",
            "67/67 [==============================] - 4s 61ms/step - loss: 2.9338e-05 - accuracy: 1.0000 - val_loss: 0.3622 - val_accuracy: 0.9483\n",
            "Epoch 124/200\n",
            "67/67 [==============================] - 4s 63ms/step - loss: 2.9109e-05 - accuracy: 1.0000 - val_loss: 0.3629 - val_accuracy: 0.9483\n",
            "Epoch 125/200\n",
            "67/67 [==============================] - 4s 61ms/step - loss: 2.8648e-05 - accuracy: 1.0000 - val_loss: 0.3632 - val_accuracy: 0.9483\n",
            "Epoch 126/200\n",
            "67/67 [==============================] - 4s 61ms/step - loss: 2.8376e-05 - accuracy: 1.0000 - val_loss: 0.3639 - val_accuracy: 0.9490\n",
            "Epoch 127/200\n",
            "67/67 [==============================] - 4s 61ms/step - loss: 2.8104e-05 - accuracy: 1.0000 - val_loss: 0.3639 - val_accuracy: 0.9490\n",
            "Epoch 128/200\n",
            "67/67 [==============================] - 4s 61ms/step - loss: 2.7760e-05 - accuracy: 1.0000 - val_loss: 0.3645 - val_accuracy: 0.9483\n",
            "Epoch 129/200\n",
            "67/67 [==============================] - 4s 62ms/step - loss: 2.7465e-05 - accuracy: 1.0000 - val_loss: 0.3645 - val_accuracy: 0.9476\n",
            "Epoch 130/200\n",
            "67/67 [==============================] - 4s 61ms/step - loss: 2.7245e-05 - accuracy: 1.0000 - val_loss: 0.3653 - val_accuracy: 0.9490\n",
            "Epoch 131/200\n",
            "67/67 [==============================] - 4s 62ms/step - loss: 2.6906e-05 - accuracy: 1.0000 - val_loss: 0.3654 - val_accuracy: 0.9483\n",
            "Epoch 132/200\n",
            "67/67 [==============================] - 4s 63ms/step - loss: 2.6627e-05 - accuracy: 1.0000 - val_loss: 0.3659 - val_accuracy: 0.9483\n",
            "Epoch 133/200\n",
            "67/67 [==============================] - 4s 62ms/step - loss: 2.6333e-05 - accuracy: 1.0000 - val_loss: 0.3662 - val_accuracy: 0.9483\n",
            "Epoch 134/200\n",
            "67/67 [==============================] - 4s 61ms/step - loss: 2.6238e-05 - accuracy: 1.0000 - val_loss: 0.3663 - val_accuracy: 0.9476\n",
            "Epoch 135/200\n",
            "67/67 [==============================] - 4s 61ms/step - loss: 2.5989e-05 - accuracy: 1.0000 - val_loss: 0.3672 - val_accuracy: 0.9483\n",
            "Epoch 136/200\n",
            "67/67 [==============================] - 4s 61ms/step - loss: 2.5646e-05 - accuracy: 1.0000 - val_loss: 0.3672 - val_accuracy: 0.9476\n",
            "Epoch 137/200\n",
            "67/67 [==============================] - 4s 61ms/step - loss: 2.5427e-05 - accuracy: 1.0000 - val_loss: 0.3678 - val_accuracy: 0.9476\n",
            "Epoch 138/200\n",
            "67/67 [==============================] - 4s 61ms/step - loss: 2.5214e-05 - accuracy: 1.0000 - val_loss: 0.3681 - val_accuracy: 0.9476\n",
            "Epoch 139/200\n",
            "67/67 [==============================] - 4s 61ms/step - loss: 2.4954e-05 - accuracy: 1.0000 - val_loss: 0.3689 - val_accuracy: 0.9490\n",
            "Epoch 140/200\n",
            "67/67 [==============================] - 4s 60ms/step - loss: 2.4692e-05 - accuracy: 1.0000 - val_loss: 0.3689 - val_accuracy: 0.9476\n",
            "Epoch 141/200\n",
            "67/67 [==============================] - 4s 63ms/step - loss: 2.4432e-05 - accuracy: 1.0000 - val_loss: 0.3697 - val_accuracy: 0.9490\n",
            "Epoch 142/200\n",
            "67/67 [==============================] - 4s 61ms/step - loss: 2.4220e-05 - accuracy: 1.0000 - val_loss: 0.3699 - val_accuracy: 0.9483\n",
            "Epoch 143/200\n",
            "67/67 [==============================] - 4s 62ms/step - loss: 2.3970e-05 - accuracy: 1.0000 - val_loss: 0.3704 - val_accuracy: 0.9483\n",
            "Epoch 144/200\n",
            "67/67 [==============================] - 4s 60ms/step - loss: 2.3775e-05 - accuracy: 1.0000 - val_loss: 0.3706 - val_accuracy: 0.9483\n",
            "Epoch 145/200\n",
            "67/67 [==============================] - 4s 62ms/step - loss: 2.3555e-05 - accuracy: 1.0000 - val_loss: 0.3710 - val_accuracy: 0.9483\n",
            "Epoch 146/200\n",
            "67/67 [==============================] - 4s 62ms/step - loss: 2.3332e-05 - accuracy: 1.0000 - val_loss: 0.3714 - val_accuracy: 0.9490\n",
            "Epoch 147/200\n",
            "67/67 [==============================] - 4s 61ms/step - loss: 2.3167e-05 - accuracy: 1.0000 - val_loss: 0.3716 - val_accuracy: 0.9483\n",
            "Epoch 148/200\n",
            "67/67 [==============================] - 4s 64ms/step - loss: 2.2900e-05 - accuracy: 1.0000 - val_loss: 0.3725 - val_accuracy: 0.9490\n",
            "Epoch 149/200\n",
            "67/67 [==============================] - 4s 63ms/step - loss: 2.2645e-05 - accuracy: 1.0000 - val_loss: 0.3719 - val_accuracy: 0.9476\n",
            "Epoch 150/200\n",
            "67/67 [==============================] - 4s 61ms/step - loss: 2.2623e-05 - accuracy: 1.0000 - val_loss: 0.3726 - val_accuracy: 0.9476\n",
            "Epoch 151/200\n",
            "67/67 [==============================] - 4s 61ms/step - loss: 2.2357e-05 - accuracy: 1.0000 - val_loss: 0.3730 - val_accuracy: 0.9483\n",
            "Epoch 152/200\n",
            "67/67 [==============================] - 4s 62ms/step - loss: 2.2194e-05 - accuracy: 1.0000 - val_loss: 0.3734 - val_accuracy: 0.9483\n",
            "Epoch 153/200\n",
            "67/67 [==============================] - 4s 61ms/step - loss: 2.1951e-05 - accuracy: 1.0000 - val_loss: 0.3738 - val_accuracy: 0.9483\n",
            "Epoch 154/200\n",
            "67/67 [==============================] - 4s 63ms/step - loss: 2.1767e-05 - accuracy: 1.0000 - val_loss: 0.3744 - val_accuracy: 0.9490\n",
            "Epoch 155/200\n",
            "67/67 [==============================] - 4s 61ms/step - loss: 2.1600e-05 - accuracy: 1.0000 - val_loss: 0.3747 - val_accuracy: 0.9490\n",
            "Epoch 156/200\n",
            "67/67 [==============================] - 4s 62ms/step - loss: 2.1439e-05 - accuracy: 1.0000 - val_loss: 0.3748 - val_accuracy: 0.9483\n",
            "Epoch 157/200\n",
            "67/67 [==============================] - 4s 61ms/step - loss: 2.1304e-05 - accuracy: 1.0000 - val_loss: 0.3749 - val_accuracy: 0.9476\n",
            "Epoch 158/200\n",
            "67/67 [==============================] - 4s 62ms/step - loss: 2.0999e-05 - accuracy: 1.0000 - val_loss: 0.3760 - val_accuracy: 0.9490\n",
            "Epoch 159/200\n",
            "67/67 [==============================] - 4s 61ms/step - loss: 2.0894e-05 - accuracy: 1.0000 - val_loss: 0.3757 - val_accuracy: 0.9476\n",
            "Epoch 160/200\n",
            "67/67 [==============================] - 4s 62ms/step - loss: 2.0708e-05 - accuracy: 1.0000 - val_loss: 0.3766 - val_accuracy: 0.9490\n",
            "Epoch 161/200\n",
            "67/67 [==============================] - 4s 61ms/step - loss: 2.0506e-05 - accuracy: 1.0000 - val_loss: 0.3766 - val_accuracy: 0.9483\n",
            "Epoch 162/200\n",
            "67/67 [==============================] - 4s 61ms/step - loss: 2.0349e-05 - accuracy: 1.0000 - val_loss: 0.3771 - val_accuracy: 0.9490\n",
            "Epoch 163/200\n",
            "67/67 [==============================] - 4s 61ms/step - loss: 2.0207e-05 - accuracy: 1.0000 - val_loss: 0.3775 - val_accuracy: 0.9490\n",
            "Epoch 164/200\n",
            "67/67 [==============================] - 4s 61ms/step - loss: 2.0044e-05 - accuracy: 1.0000 - val_loss: 0.3776 - val_accuracy: 0.9483\n",
            "Epoch 165/200\n",
            "67/67 [==============================] - 4s 61ms/step - loss: 1.9866e-05 - accuracy: 1.0000 - val_loss: 0.3781 - val_accuracy: 0.9483\n",
            "Epoch 166/200\n",
            "67/67 [==============================] - 4s 62ms/step - loss: 1.9742e-05 - accuracy: 1.0000 - val_loss: 0.3781 - val_accuracy: 0.9476\n",
            "Epoch 167/200\n",
            "67/67 [==============================] - 4s 62ms/step - loss: 1.9604e-05 - accuracy: 1.0000 - val_loss: 0.3789 - val_accuracy: 0.9490\n",
            "Epoch 168/200\n",
            "67/67 [==============================] - 4s 61ms/step - loss: 1.9421e-05 - accuracy: 1.0000 - val_loss: 0.3789 - val_accuracy: 0.9476\n",
            "Epoch 169/200\n",
            "67/67 [==============================] - 4s 61ms/step - loss: 1.9291e-05 - accuracy: 1.0000 - val_loss: 0.3794 - val_accuracy: 0.9483\n",
            "Epoch 170/200\n",
            "67/67 [==============================] - 4s 64ms/step - loss: 1.9180e-05 - accuracy: 1.0000 - val_loss: 0.3800 - val_accuracy: 0.9490\n",
            "Epoch 171/200\n",
            "67/67 [==============================] - 4s 65ms/step - loss: 1.8996e-05 - accuracy: 1.0000 - val_loss: 0.3802 - val_accuracy: 0.9490\n",
            "Epoch 172/200\n",
            "67/67 [==============================] - 4s 61ms/step - loss: 1.8849e-05 - accuracy: 1.0000 - val_loss: 0.3807 - val_accuracy: 0.9490\n",
            "Epoch 173/200\n",
            "67/67 [==============================] - 4s 61ms/step - loss: 1.8761e-05 - accuracy: 1.0000 - val_loss: 0.3808 - val_accuracy: 0.9490\n",
            "Epoch 174/200\n",
            "67/67 [==============================] - 4s 61ms/step - loss: 1.8551e-05 - accuracy: 1.0000 - val_loss: 0.3808 - val_accuracy: 0.9483\n",
            "Epoch 175/200\n",
            "67/67 [==============================] - 4s 62ms/step - loss: 1.8463e-05 - accuracy: 1.0000 - val_loss: 0.3814 - val_accuracy: 0.9490\n",
            "Epoch 176/200\n",
            "67/67 [==============================] - 4s 62ms/step - loss: 1.8362e-05 - accuracy: 1.0000 - val_loss: 0.3820 - val_accuracy: 0.9490\n",
            "Epoch 177/200\n",
            "67/67 [==============================] - 4s 62ms/step - loss: 1.8173e-05 - accuracy: 1.0000 - val_loss: 0.3820 - val_accuracy: 0.9483\n",
            "Epoch 178/200\n",
            "67/67 [==============================] - 4s 62ms/step - loss: 1.8106e-05 - accuracy: 1.0000 - val_loss: 0.3821 - val_accuracy: 0.9483\n",
            "Epoch 179/200\n",
            "67/67 [==============================] - 4s 62ms/step - loss: 1.7885e-05 - accuracy: 1.0000 - val_loss: 0.3827 - val_accuracy: 0.9490\n",
            "Epoch 180/200\n",
            "67/67 [==============================] - 4s 63ms/step - loss: 1.7787e-05 - accuracy: 1.0000 - val_loss: 0.3830 - val_accuracy: 0.9490\n",
            "Epoch 181/200\n",
            "67/67 [==============================] - 4s 61ms/step - loss: 1.7659e-05 - accuracy: 1.0000 - val_loss: 0.3830 - val_accuracy: 0.9483\n",
            "Epoch 182/200\n",
            "67/67 [==============================] - 4s 62ms/step - loss: 1.7600e-05 - accuracy: 1.0000 - val_loss: 0.3831 - val_accuracy: 0.9476\n",
            "Epoch 183/200\n",
            "67/67 [==============================] - 4s 62ms/step - loss: 1.7372e-05 - accuracy: 1.0000 - val_loss: 0.3839 - val_accuracy: 0.9490\n",
            "Epoch 184/200\n",
            "67/67 [==============================] - 4s 61ms/step - loss: 1.7267e-05 - accuracy: 1.0000 - val_loss: 0.3838 - val_accuracy: 0.9476\n",
            "Epoch 185/200\n",
            "67/67 [==============================] - 4s 62ms/step - loss: 1.7260e-05 - accuracy: 1.0000 - val_loss: 0.3843 - val_accuracy: 0.9490\n",
            "Epoch 186/200\n",
            "67/67 [==============================] - 4s 62ms/step - loss: 1.7092e-05 - accuracy: 1.0000 - val_loss: 0.3841 - val_accuracy: 0.9476\n",
            "Epoch 187/200\n",
            "67/67 [==============================] - 4s 61ms/step - loss: 1.6938e-05 - accuracy: 1.0000 - val_loss: 0.3843 - val_accuracy: 0.9476\n",
            "Epoch 188/200\n",
            "67/67 [==============================] - 4s 62ms/step - loss: 1.6852e-05 - accuracy: 1.0000 - val_loss: 0.3847 - val_accuracy: 0.9483\n",
            "Epoch 189/200\n",
            "67/67 [==============================] - 4s 62ms/step - loss: 1.6679e-05 - accuracy: 1.0000 - val_loss: 0.3856 - val_accuracy: 0.9490\n",
            "Epoch 190/200\n",
            "67/67 [==============================] - 4s 61ms/step - loss: 1.6565e-05 - accuracy: 1.0000 - val_loss: 0.3852 - val_accuracy: 0.9476\n",
            "Epoch 191/200\n",
            "67/67 [==============================] - 4s 61ms/step - loss: 1.6524e-05 - accuracy: 1.0000 - val_loss: 0.3856 - val_accuracy: 0.9490\n",
            "Epoch 192/200\n",
            "67/67 [==============================] - 4s 61ms/step - loss: 1.6398e-05 - accuracy: 1.0000 - val_loss: 0.3863 - val_accuracy: 0.9490\n",
            "Epoch 193/200\n",
            "67/67 [==============================] - 4s 61ms/step - loss: 1.6349e-05 - accuracy: 1.0000 - val_loss: 0.3865 - val_accuracy: 0.9490\n",
            "Epoch 194/200\n",
            "67/67 [==============================] - 4s 62ms/step - loss: 1.6146e-05 - accuracy: 1.0000 - val_loss: 0.3865 - val_accuracy: 0.9483\n",
            "Epoch 195/200\n",
            "67/67 [==============================] - 4s 61ms/step - loss: 1.6051e-05 - accuracy: 1.0000 - val_loss: 0.3868 - val_accuracy: 0.9483\n",
            "Epoch 196/200\n",
            "67/67 [==============================] - 4s 65ms/step - loss: 1.5969e-05 - accuracy: 1.0000 - val_loss: 0.3873 - val_accuracy: 0.9490\n",
            "Epoch 197/200\n",
            "67/67 [==============================] - 5s 70ms/step - loss: 1.5858e-05 - accuracy: 1.0000 - val_loss: 0.3876 - val_accuracy: 0.9483\n",
            "Epoch 198/200\n",
            "67/67 [==============================] - 4s 64ms/step - loss: 1.5746e-05 - accuracy: 1.0000 - val_loss: 0.3876 - val_accuracy: 0.9483\n",
            "Epoch 199/200\n",
            "67/67 [==============================] - 4s 61ms/step - loss: 1.5660e-05 - accuracy: 1.0000 - val_loss: 0.3881 - val_accuracy: 0.9483\n",
            "Epoch 200/200\n",
            "67/67 [==============================] - 4s 63ms/step - loss: 1.5541e-05 - accuracy: 1.0000 - val_loss: 0.3883 - val_accuracy: 0.9490\n"
          ]
        }
      ]
    },
    {
      "cell_type": "markdown",
      "source": [
        "Tiếp theo ta sẽ đi vẽ đồ thị về sai số kiểm tra và độ chính xác kiểm tra."
      ],
      "metadata": {
        "id": "sk4QKcLP1RuW"
      }
    },
    {
      "cell_type": "code",
      "source": [
        "score = model.evaluate(x_test, y_test, verbose=0)\n",
        "print('Sai số kiểm tra là: ',score[0])\n",
        "print('Độ chính xác kiểm tra là: ',score[1])\n",
        "plt.plot(history.history['accuracy'])\n",
        "plt.plot(history.history['val_accuracy'])\n",
        "plt.ylabel('accuracy')\n",
        "plt.xlabel('epochs')\n",
        "plt.legend(['Train','Validation'])\n",
        "plt.show()"
      ],
      "metadata": {
        "id": "uYAzlny_SttB",
        "colab": {
          "base_uri": "https://localhost:8080/",
          "height": 315
        },
        "outputId": "c73c5da3-27f8-44fa-8df9-cdf403488bf2"
      },
      "execution_count": null,
      "outputs": [
        {
          "output_type": "stream",
          "name": "stdout",
          "text": [
            "Sai số kiểm tra là:  0.3883247375488281\n",
            "Độ chính xác kiểm tra là:  0.9490085244178772\n"
          ]
        },
        {
          "output_type": "display_data",
          "data": {
            "text/plain": [
              "<Figure size 432x288 with 1 Axes>"
            ],
            "image/png": "[encoded data removed]"
          },
          "metadata": {
            "needs_background": "light"
          }
        }
      ]
    },
    {
      "cell_type": "markdown",
      "source": [
        "Đến đây là đã xong quá trình training cho 2 nhiệm vụ dự đoán tuổi và giới tính. Nhiệm vụ dự đoán hình dạng khuôn mặt sẽ được thực hiện trong cửa sổ mới."
      ],
      "metadata": {
        "id": "gPwAQmH01cjV"
      }
    },
    {
      "cell_type": "markdown",
      "source": [
        "# **III. Nhận dạng real time**"
      ],
      "metadata": {
        "id": "-WtAm1Is19_-"
      }
    },
    {
      "cell_type": "markdown",
      "source": [
        "Ta sẽ sử dụng một thuật toán phát hiện đối tượng đơn giản có tên là Haar Cascade. Mô hình này là mô hình đã được đào tạo trước bởi OpenCV."
      ],
      "metadata": {
        "id": "BaCv8RN_2S6e"
      }
    },
    {
      "cell_type": "code",
      "source": [
        "# import dependencies\n",
        "from IPython.display import display, Javascript, Image\n",
        "from google.colab.output import eval_js\n",
        "from base64 import b64decode, b64encode\n",
        "import cv2\n",
        "import numpy as np\n",
        "import PIL\n",
        "import io\n",
        "import html\n",
        "import time\n",
        "# initialize the Haar Cascade face detection model\n",
        "face_cascade = cv2.CascadeClassifier(cv2.samples.findFile(cv2.data.haarcascades + 'haarcascade_frontalface_default.xml'))"
      ],
      "metadata": {
        "id": "Bj7wnlnZkTeo"
      },
      "execution_count": 10,
      "outputs": []
    },
    {
      "cell_type": "markdown",
      "source": [
        "Quá trình training dữ liệu đã xong. Việc cần làm bây giờ là bật webcam để cho máy tính nhận diện. Ta sử dụng JavaScript để yêu cầu quyền truy cập vào webcam của máy tính và show lên trình duyệt."
      ],
      "metadata": {
        "id": "FOSJcT2U4wPd"
      }
    },
    {
      "cell_type": "code",
      "source": [
        "from IPython.display import display, Javascript, Image\n",
        "# JavaScript to properly create our live video stream using our webcam as input\n",
        "\n",
        "def video_stream():\n",
        "  js = Javascript('''\n",
        "    var video;\n",
        "    var div = null;\n",
        "    var stream;\n",
        "    var captureCanvas;\n",
        "    var imgElement;\n",
        "    var labelElement;\n",
        "    \n",
        "    var pendingResolve = null;\n",
        "    var shutdown = false;\n",
        "    \n",
        "    function removeDom() {\n",
        "       stream.getVideoTracks()[0].stop();\n",
        "       video.remove();\n",
        "       div.remove();\n",
        "       video = null;\n",
        "       div = null;\n",
        "       stream = null;\n",
        "       imgElement = null;\n",
        "       captureCanvas = null;\n",
        "       labelElement = null;\n",
        "    }\n",
        "    \n",
        "    function onAnimationFrame() {\n",
        "      if (!shutdown) {\n",
        "        window.requestAnimationFrame(onAnimationFrame);\n",
        "      }\n",
        "      if (pendingResolve) {\n",
        "        var result = \"\";\n",
        "        if (!shutdown) {\n",
        "          captureCanvas.getContext('2d').drawImage(video, 0, 0, 640, 480);\n",
        "          result = captureCanvas.toDataURL('image/jpeg', 0.8)\n",
        "        }\n",
        "        var lp = pendingResolve;\n",
        "        pendingResolve = null;\n",
        "        lp(result);\n",
        "      }\n",
        "    }\n",
        "    \n",
        "    async function createDom() {\n",
        "      if (div !== null) {\n",
        "        return stream;\n",
        "      }\n",
        "\n",
        "      div = document.createElement('div');\n",
        "      div.style.border = '2px solid black';\n",
        "      div.style.padding = '3px';\n",
        "      div.style.width = '100%';\n",
        "      div.style.maxWidth = '600px';\n",
        "      document.body.appendChild(div);\n",
        "      \n",
        "      const modelOut = document.createElement('div');\n",
        "      modelOut.innerHTML = \"<span>Status:</span>\";\n",
        "      labelElement = document.createElement('span');\n",
        "      labelElement.innerText = 'No data';\n",
        "      labelElement.style.fontWeight = 'bold';\n",
        "      modelOut.appendChild(labelElement);\n",
        "      div.appendChild(modelOut);\n",
        "           \n",
        "      video = document.createElement('video');\n",
        "      video.style.display = 'block';\n",
        "      video.width = div.clientWidth - 6;\n",
        "      video.setAttribute('playsinline', '');\n",
        "      video.onclick = () => { shutdown = true; };\n",
        "      stream = await navigator.mediaDevices.getUserMedia(\n",
        "          {video: { facingMode: \"environment\"}});\n",
        "      div.appendChild(video);\n",
        "\n",
        "      imgElement = document.createElement('img');\n",
        "      imgElement.style.position = 'absolute';\n",
        "      imgElement.style.zIndex = 1;\n",
        "      imgElement.onclick = () => { shutdown = true; };\n",
        "      div.appendChild(imgElement);\n",
        "      \n",
        "      const instruction = document.createElement('div');\n",
        "      instruction.innerHTML = \n",
        "          '<span style=\"color: red; font-weight: bold;\">' +\n",
        "          'Bấm vào video để dừng</span>';\n",
        "      div.appendChild(instruction);\n",
        "      instruction.onclick = () => { shutdown = true; };\n",
        "      \n",
        "      video.srcObject = stream;\n",
        "      await video.play();\n",
        "\n",
        "      captureCanvas = document.createElement('canvas');\n",
        "      captureCanvas.width = 640; //video.videoWidth;\n",
        "      captureCanvas.height = 480; //video.videoHeight;\n",
        "      window.requestAnimationFrame(onAnimationFrame);\n",
        "      \n",
        "      return stream;\n",
        "    }\n",
        "    async function stream_frame(label, imgData) {\n",
        "      if (shutdown) {\n",
        "        removeDom();\n",
        "        shutdown = false;\n",
        "        return '';\n",
        "      }\n",
        "\n",
        "      var preCreate = Date.now();\n",
        "      stream = await createDom();\n",
        "      \n",
        "      var preShow = Date.now();\n",
        "      if (label != \"\") {\n",
        "        labelElement.innerHTML = label;\n",
        "      }\n",
        "            \n",
        "      if (imgData != \"\") {\n",
        "        var videoRect = video.getClientRects()[0];\n",
        "        imgElement.style.top = videoRect.top + \"px\";\n",
        "        imgElement.style.left = videoRect.left + \"px\";\n",
        "        imgElement.style.width = videoRect.width + \"px\";\n",
        "        imgElement.style.height = videoRect.height + \"px\";\n",
        "        imgElement.src = imgData;\n",
        "      }\n",
        "      \n",
        "      var preCapture = Date.now();\n",
        "      var result = await new Promise(function(resolve, reject) {\n",
        "        pendingResolve = resolve;\n",
        "      });\n",
        "      shutdown = false;\n",
        "      \n",
        "      return {'create': preShow - preCreate, \n",
        "              'show': preCapture - preShow, \n",
        "              'capture': Date.now() - preCapture,\n",
        "              'img': result};\n",
        "    }\n",
        "    ''')\n",
        "\n",
        "  display(js)\n",
        "  \n",
        "def video_frame(label, bbox):\n",
        "  data = eval_js('stream_frame(\"{}\", \"{}\")'.format(label, bbox))\n",
        "  return data"
      ],
      "metadata": {
        "id": "bnBnsAUhSx1z"
      },
      "execution_count": 15,
      "outputs": []
    },
    {
      "cell_type": "markdown",
      "source": [
        "Ta sẽ viết 2 chương trình con là js_to_image để chuyển đổi ảnh trả về từ JavaScript và chuyển đổi ảnh này sang OpenCV để nhận dạng. Chương trình con thứ hai là bbox_to_bytes để chuyển đổi bbox thành image đè lên trên video."
      ],
      "metadata": {
        "id": "aQhsFGcC5SO0"
      }
    },
    {
      "cell_type": "code",
      "source": [
        "# function to convert the JavaScript object into an OpenCV image\n",
        "def js_to_image(js_reply):\n",
        "  \"\"\"\n",
        "  Params:\n",
        "          js_reply: JavaScript object containing image from webcam\n",
        "  Returns:\n",
        "          img: OpenCV BGR image\n",
        "  \"\"\"\n",
        "  # decode base64 image\n",
        "  image_bytes = b64decode(js_reply.split(',')[1])\n",
        "  # convert bytes to numpy array\n",
        "  jpg_as_np = np.frombuffer(image_bytes, dtype=np.uint8)\n",
        "  # decode numpy array into OpenCV BGR image\n",
        "  img = cv2.imdecode(jpg_as_np, flags=1)\n",
        "\n",
        "  return img\n",
        "\n",
        "# function to convert OpenCV Rectangle bounding box image into base64 byte string to be overlayed on video stream\n",
        "def bbox_to_bytes(bbox_array):\n",
        "  \"\"\"\n",
        "  Params:\n",
        "          bbox_array: Numpy array (pixels) containing rectangle to overlay on video stream.\n",
        "  Returns:\n",
        "        bytes: Base64 image byte string\n",
        "  \"\"\"\n",
        "  # convert array into PIL image\n",
        "  bbox_PIL = PIL.Image.fromarray(bbox_array, 'RGBA')\n",
        "  iobuf = io.BytesIO()\n",
        "  # format bbox into png for return\n",
        "  bbox_PIL.save(iobuf, format='png')\n",
        "  # format return string\n",
        "  bbox_bytes = 'data:image/png;base64,{}'.format((str(b64encode(iobuf.getvalue()), 'utf-8')))\n",
        "\n",
        "  return bbox_bytes"
      ],
      "metadata": {
        "id": "wtvZd2mZS8Ys"
      },
      "execution_count": 12,
      "outputs": []
    },
    {
      "cell_type": "markdown",
      "source": [
        "Tiếp theo tiến hành đọc dữ liệu từ webcam người dùng và trả về cho Python nhận dạng."
      ],
      "metadata": {
        "id": "3kIxEjAU6GPk"
      }
    },
    {
      "cell_type": "code",
      "source": [
        "%cd /content\n",
        "from google.colab.output import eval_js\n",
        "from google.colab.patches import cv2_imshow\n",
        "from base64 import b64decode, b64encode\n",
        "import numpy as np\n",
        "import PIL\n",
        "import io\n",
        "import cv2\n",
        "from keras.models import  load_model\n",
        "\n",
        "# start streaming video from webcam\n",
        "video_stream()\n",
        "# label for video\n",
        "label_html = 'Đang lấy hình ảnh...'\n",
        "# initialze bounding box to empty\n",
        "bbox = ''\n",
        "count = 0 \n",
        "\n",
        "# Load model \n",
        "model_file_path1 = \"/content/drive/MyDrive/age.h5\"\n",
        "model_file_path2= \"/content/drive/MyDrive/gender.h5\"\n",
        "model_file_path3 = \"/content/drive/MyDrive/faceshape_1.h5\"\n",
        "\n",
        "\n",
        "vggmodel1 = load_model(model_file_path1)\n",
        "vggmodel2 = load_model(model_file_path2)\n",
        "vggmodel3 = load_model(model_file_path3)\n",
        "classes1 = ['Age: 0-7','Age: 8-15','Age: 16-23','Age: 24-32','Age: 33-50','Age: 51-65','Age: 66-100']\n",
        "classes2 = ['Genger: Female','Gender: Male']\n",
        "classes3 = ['Faceshape: Heart','Faceshape: Oblong','Faceshape: Oval','Faceshape: Round','Faceshape: Square']\n",
        "while True:\n",
        "    # Đọc ảnh trả về từ JS\n",
        "    js_reply = video_frame(label_html, bbox)\n",
        "    if not js_reply:\n",
        "        break\n",
        "\n",
        "    # convert JS response to OpenCV Image\n",
        "    frame = js_to_image(js_reply[\"img\"])\n",
        "\n",
        "    # Resize để đưa vào model\n",
        "    frame_p = cv2.resize(frame, dsize=(150,150))\n",
        "    tensor = np.expand_dims(frame_p, axis=0)\n",
        "\n",
        "    # Feed vào mạng\n",
        "    pred1 = vggmodel1.predict(tensor)\n",
        "    pred2 = vggmodel2.predict(tensor)\n",
        "    pred3 = vggmodel3.predict(tensor)\n",
        "    class_id1 = np.argmax(pred1)\n",
        "    class_id2 = np.argmax(pred2)\n",
        "    class_id3 = np.argmax(pred3)\n",
        "    class_name1 = classes1[class_id1]\n",
        "    class_name2 = classes2[class_id2]\n",
        "    class_name3 = classes3[class_id3]\n",
        "\n",
        "    # create transparent overlay for bounding box\n",
        "    bbox_array = np.zeros([480,640,4], dtype=np.uint8)\n",
        "\n",
        "   \n",
        "    bbox_array = cv2.putText(bbox_array, \"{}\".format(class_name1),\n",
        "                        (10, 20), cv2.FONT_HERSHEY_SIMPLEX, 0.5,\n",
        "                        (255, 0,0), 2)\n",
        "    bbox_array = cv2.putText(bbox_array, \"{}\".format(class_name2),\n",
        "                        (200, 20), cv2.FONT_HERSHEY_SIMPLEX, 0.5,\n",
        "                        (0, 255,0), 2)\n",
        "    bbox_array = cv2.putText(bbox_array, \"{}\".format(class_name3),\n",
        "                        (400, 20), cv2.FONT_HERSHEY_SIMPLEX, 0.5,\n",
        "                        (0,0, 255), 2)\n",
        "    # grayscale image for face detection\n",
        "    gray = cv2.cvtColor(frame, cv2.COLOR_RGB2GRAY)\n",
        "\n",
        "    # get face region coordinates\n",
        "    faces = face_cascade.detectMultiScale(gray)\n",
        "    # get face bounding box for overlay\n",
        "    for (x,y,w,h) in faces:\n",
        "      bbox_array = cv2.rectangle(bbox_array,(x,y),(x+w,y+h),(255,0,0),2)\n",
        "\n",
        "    bbox_array[:,:,3] = (bbox_array.max(axis = 2) > 0 ).astype(int) * 255\n",
        "    # convert overlay of bbox into bytes\n",
        "    bbox_bytes = bbox_to_bytes(bbox_array)\n",
        "    # update bbox so next frame gets new overlay\n",
        "    bbox = bbox_bytes\n"
      ],
      "metadata": {
        "id": "jVjljXkfc-DD",
        "colab": {
          "base_uri": "https://localhost:8080/",
          "height": 35
        },
        "outputId": "b898dedd-4784-4f8e-efe0-4a5a1c8e8ff4"
      },
      "execution_count": 17,
      "outputs": [
        {
          "output_type": "stream",
          "name": "stdout",
          "text": [
            "/content\n"
          ]
        },
        {
          "output_type": "display_data",
          "data": {
            "text/plain": [
              "<IPython.core.display.Javascript object>"
            ],
            "application/javascript": [
              "\n",
              "    var video;\n",
              "    var div = null;\n",
              "    var stream;\n",
              "    var captureCanvas;\n",
              "    var imgElement;\n",
              "    var labelElement;\n",
              "    \n",
              "    var pendingResolve = null;\n",
              "    var shutdown = false;\n",
              "    \n",
              "    function removeDom() {\n",
              "       stream.getVideoTracks()[0].stop();\n",
              "       video.remove();\n",
              "       div.remove();\n",
              "       video = null;\n",
              "       div = null;\n",
              "       stream = null;\n",
              "       imgElement = null;\n",
              "       captureCanvas = null;\n",
              "       labelElement = null;\n",
              "    }\n",
              "    \n",
              "    function onAnimationFrame() {\n",
              "      if (!shutdown) {\n",
              "        window.requestAnimationFrame(onAnimationFrame);\n",
              "      }\n",
              "      if (pendingResolve) {\n",
              "        var result = \"\";\n",
              "        if (!shutdown) {\n",
              "          captureCanvas.getContext('2d').drawImage(video, 0, 0, 640, 480);\n",
              "          result = captureCanvas.toDataURL('image/jpeg', 0.8)\n",
              "        }\n",
              "        var lp = pendingResolve;\n",
              "        pendingResolve = null;\n",
              "        lp(result);\n",
              "      }\n",
              "    }\n",
              "    \n",
              "    async function createDom() {\n",
              "      if (div !== null) {\n",
              "        return stream;\n",
              "      }\n",
              "\n",
              "      div = document.createElement('div');\n",
              "      div.style.border = '2px solid black';\n",
              "      div.style.padding = '3px';\n",
              "      div.style.width = '100%';\n",
              "      div.style.maxWidth = '600px';\n",
              "      document.body.appendChild(div);\n",
              "      \n",
              "      const modelOut = document.createElement('div');\n",
              "      modelOut.innerHTML = \"<span>Status:</span>\";\n",
              "      labelElement = document.createElement('span');\n",
              "      labelElement.innerText = 'No data';\n",
              "      labelElement.style.fontWeight = 'bold';\n",
              "      modelOut.appendChild(labelElement);\n",
              "      div.appendChild(modelOut);\n",
              "           \n",
              "      video = document.createElement('video');\n",
              "      video.style.display = 'block';\n",
              "      video.width = div.clientWidth - 6;\n",
              "      video.setAttribute('playsinline', '');\n",
              "      video.onclick = () => { shutdown = true; };\n",
              "      stream = await navigator.mediaDevices.getUserMedia(\n",
              "          {video: { facingMode: \"environment\"}});\n",
              "      div.appendChild(video);\n",
              "\n",
              "      imgElement = document.createElement('img');\n",
              "      imgElement.style.position = 'absolute';\n",
              "      imgElement.style.zIndex = 1;\n",
              "      imgElement.onclick = () => { shutdown = true; };\n",
              "      div.appendChild(imgElement);\n",
              "      \n",
              "      const instruction = document.createElement('div');\n",
              "      instruction.innerHTML = \n",
              "          '<span style=\"color: red; font-weight: bold;\">' +\n",
              "          'Bấm vào video để dừng</span>';\n",
              "      div.appendChild(instruction);\n",
              "      instruction.onclick = () => { shutdown = true; };\n",
              "      \n",
              "      video.srcObject = stream;\n",
              "      await video.play();\n",
              "\n",
              "      captureCanvas = document.createElement('canvas');\n",
              "      captureCanvas.width = 640; //video.videoWidth;\n",
              "      captureCanvas.height = 480; //video.videoHeight;\n",
              "      window.requestAnimationFrame(onAnimationFrame);\n",
              "      \n",
              "      return stream;\n",
              "    }\n",
              "    async function stream_frame(label, imgData) {\n",
              "      if (shutdown) {\n",
              "        removeDom();\n",
              "        shutdown = false;\n",
              "        return '';\n",
              "      }\n",
              "\n",
              "      var preCreate = Date.now();\n",
              "      stream = await createDom();\n",
              "      \n",
              "      var preShow = Date.now();\n",
              "      if (label != \"\") {\n",
              "        labelElement.innerHTML = label;\n",
              "      }\n",
              "            \n",
              "      if (imgData != \"\") {\n",
              "        var videoRect = video.getClientRects()[0];\n",
              "        imgElement.style.top = videoRect.top + \"px\";\n",
              "        imgElement.style.left = videoRect.left + \"px\";\n",
              "        imgElement.style.width = videoRect.width + \"px\";\n",
              "        imgElement.style.height = videoRect.height + \"px\";\n",
              "        imgElement.src = imgData;\n",
              "      }\n",
              "      \n",
              "      var preCapture = Date.now();\n",
              "      var result = await new Promise(function(resolve, reject) {\n",
              "        pendingResolve = resolve;\n",
              "      });\n",
              "      shutdown = false;\n",
              "      \n",
              "      return {'create': preShow - preCreate, \n",
              "              'show': preCapture - preShow, \n",
              "              'capture': Date.now() - preCapture,\n",
              "              'img': result};\n",
              "    }\n",
              "    "
            ]
          },
          "metadata": {}
        }
      ]
    }
  ]
}